{
  "nbformat": 4,
  "nbformat_minor": 0,
  "metadata": {
    "colab": {
      "name": "ML_Creating_Learn_Test_data.ipynb",
      "provenance": [],
      "collapsed_sections": [],
      "authorship_tag": "ABX9TyP0hzbaPz91yMTl3Pm/2Cu1",
      "include_colab_link": true
    },
    "kernelspec": {
      "name": "python3",
      "display_name": "Python 3"
    },
    "language_info": {
      "name": "python"
    }
  },
  "cells": [
    {
      "cell_type": "markdown",
      "metadata": {
        "id": "view-in-github",
        "colab_type": "text"
      },
      "source": [
        "<a href=\"https://colab.research.google.com/github/raviakasapu/MachineLearning/blob/main/ML_Creating_Learn_Test_data.ipynb\" target=\"_parent\"><img src=\"https://colab.research.google.com/assets/colab-badge.svg\" alt=\"Open In Colab\"/></a>"
      ]
    },
    {
      "cell_type": "markdown",
      "source": [
        "# Creating a Learn & Test data set from Iris adat"
      ],
      "metadata": {
        "id": "V5d9xhUeL1ka"
      }
    },
    {
      "cell_type": "code",
      "source": [
        "import numpy as np\n",
        "from sklearn.datasets import load_iris\n",
        "iris = load_iris()"
      ],
      "metadata": {
        "id": "g7z73nUfL167"
      },
      "execution_count": 2,
      "outputs": []
    },
    {
      "cell_type": "code",
      "source": [
        "iris.target"
      ],
      "metadata": {
        "colab": {
          "base_uri": "https://localhost:8080/"
        },
        "id": "scHYXyHRMEak",
        "outputId": "6067a6f4-59c5-45be-ebd6-bbb2defa52bd"
      },
      "execution_count": 3,
      "outputs": [
        {
          "output_type": "execute_result",
          "data": {
            "text/plain": [
              "array([0, 0, 0, 0, 0, 0, 0, 0, 0, 0, 0, 0, 0, 0, 0, 0, 0, 0, 0, 0, 0, 0,\n",
              "       0, 0, 0, 0, 0, 0, 0, 0, 0, 0, 0, 0, 0, 0, 0, 0, 0, 0, 0, 0, 0, 0,\n",
              "       0, 0, 0, 0, 0, 0, 1, 1, 1, 1, 1, 1, 1, 1, 1, 1, 1, 1, 1, 1, 1, 1,\n",
              "       1, 1, 1, 1, 1, 1, 1, 1, 1, 1, 1, 1, 1, 1, 1, 1, 1, 1, 1, 1, 1, 1,\n",
              "       1, 1, 1, 1, 1, 1, 1, 1, 1, 1, 1, 1, 2, 2, 2, 2, 2, 2, 2, 2, 2, 2,\n",
              "       2, 2, 2, 2, 2, 2, 2, 2, 2, 2, 2, 2, 2, 2, 2, 2, 2, 2, 2, 2, 2, 2,\n",
              "       2, 2, 2, 2, 2, 2, 2, 2, 2, 2, 2, 2, 2, 2, 2, 2, 2, 2])"
            ]
          },
          "metadata": {},
          "execution_count": 3
        }
      ]
    },
    {
      "cell_type": "markdown",
      "source": [
        "#Test Train split using np permutation function"
      ],
      "metadata": {
        "id": "4a85uL4qNiAw"
      }
    },
    {
      "cell_type": "code",
      "source": [
        "indices = np.random.permutation(len(iris.data))\n",
        "indices"
      ],
      "metadata": {
        "colab": {
          "base_uri": "https://localhost:8080/"
        },
        "id": "dxbLXd7eMGdt",
        "outputId": "8509edfe-8abd-4bd5-a732-c819a8b933e1"
      },
      "execution_count": 4,
      "outputs": [
        {
          "output_type": "execute_result",
          "data": {
            "text/plain": [
              "array([101,  92,  65,  18,  70,  75, 104,  10,  72,  22, 146, 109, 118,\n",
              "       130,  77,  43,  53,  44,   0,  40,  89,  52, 149,  56,   1, 136,\n",
              "        31,  23,  54,  37,  34,  19, 124,  85,  62,  94,  15, 125,  91,\n",
              "         3,  57,  69,  76, 128,  61,  67,  93,  55, 148,  32,  60,  95,\n",
              "        82,  80,   8,  36, 132, 142,  50,  14,   7,  12,  59,  48,   4,\n",
              "        58,  51,  13, 113, 141, 138,  81, 106,  17,  41,   5, 117,  39,\n",
              "        28, 119, 110,  79,  11,  27,  25, 143,  64,  26,  35,   6,  33,\n",
              "        73,  46,  74, 135,   9,  24,  30, 129,  87, 144,  98, 127, 131,\n",
              "       120,  66,  96, 102, 140,  38, 139, 108, 112,  84, 123, 137,  78,\n",
              "       121, 100,  71,  49,  45,  21,  16,  20,  86,  68,   2, 114,  99,\n",
              "       107,  42,  83, 122, 145, 116,  47,  29, 126, 111,  97,  90, 105,\n",
              "       147, 103,  88,  63, 134, 115, 133])"
            ]
          },
          "metadata": {},
          "execution_count": 4
        }
      ]
    },
    {
      "cell_type": "code",
      "source": [
        "n_test_samples = 12"
      ],
      "metadata": {
        "id": "0o3HbYzPMrSt"
      },
      "execution_count": 5,
      "outputs": []
    },
    {
      "cell_type": "code",
      "source": [
        "learn_data = iris.data[indices[:-n_test_samples]]\n",
        "len(learn_data)"
      ],
      "metadata": {
        "colab": {
          "base_uri": "https://localhost:8080/"
        },
        "id": "xpFZLintMv-p",
        "outputId": "8b128b56-a3a0-4113-c0f8-90de38a27ede"
      },
      "execution_count": 10,
      "outputs": [
        {
          "output_type": "execute_result",
          "data": {
            "text/plain": [
              "138"
            ]
          },
          "metadata": {},
          "execution_count": 10
        }
      ]
    },
    {
      "cell_type": "code",
      "source": [
        "test_data = iris.data[indices[-n_test_samples:]]\n",
        "len(test_data)"
      ],
      "metadata": {
        "colab": {
          "base_uri": "https://localhost:8080/"
        },
        "id": "ihW6DqFmNF-E",
        "outputId": "10ceac99-7a34-4508-d0b2-aaa1d2549568"
      },
      "execution_count": 13,
      "outputs": [
        {
          "output_type": "execute_result",
          "data": {
            "text/plain": [
              "12"
            ]
          },
          "metadata": {},
          "execution_count": 13
        }
      ]
    },
    {
      "cell_type": "code",
      "source": [
        "learn_lables = iris.target[indices[:-n_test_samples]]\n",
        "len(learn_lables)"
      ],
      "metadata": {
        "colab": {
          "base_uri": "https://localhost:8080/"
        },
        "id": "gUW-i4ZmNQqo",
        "outputId": "455801a5-61a3-47f7-b8aa-46d776654ec3"
      },
      "execution_count": 14,
      "outputs": [
        {
          "output_type": "execute_result",
          "data": {
            "text/plain": [
              "138"
            ]
          },
          "metadata": {},
          "execution_count": 14
        }
      ]
    },
    {
      "cell_type": "code",
      "source": [
        "test_lables = iris.target[indices[-n_test_samples:]]\n",
        "len(test_lables)"
      ],
      "metadata": {
        "colab": {
          "base_uri": "https://localhost:8080/"
        },
        "id": "6scy5ZPKNbFu",
        "outputId": "5126a1ed-333d-4cb5-f992-2c554cfc6cd5"
      },
      "execution_count": 15,
      "outputs": [
        {
          "output_type": "execute_result",
          "data": {
            "text/plain": [
              "12"
            ]
          },
          "metadata": {},
          "execution_count": 15
        }
      ]
    },
    {
      "cell_type": "markdown",
      "source": [
        ""
      ],
      "metadata": {
        "id": "Ea0f_cNaNqaD"
      }
    },
    {
      "cell_type": "code",
      "source": [
        ""
      ],
      "metadata": {
        "id": "R-l2VMfBNpo_"
      },
      "execution_count": null,
      "outputs": []
    }
  ]
}