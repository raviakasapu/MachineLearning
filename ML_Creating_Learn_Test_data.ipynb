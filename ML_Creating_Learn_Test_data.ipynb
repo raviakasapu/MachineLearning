{
  "nbformat": 4,
  "nbformat_minor": 0,
  "metadata": {
    "colab": {
      "name": "ML_Creating_Learn_Test_data.ipynb",
      "provenance": [],
      "collapsed_sections": [],
      "authorship_tag": "ABX9TyNF9ultGkNcXt1DSJ+Pz2MA",
      "include_colab_link": true
    },
    "kernelspec": {
      "name": "python3",
      "display_name": "Python 3"
    },
    "language_info": {
      "name": "python"
    }
  },
  "cells": [
    {
      "cell_type": "markdown",
      "metadata": {
        "id": "view-in-github",
        "colab_type": "text"
      },
      "source": [
        "<a href=\"https://colab.research.google.com/github/raviakasapu/MachineLearning/blob/main/ML_Creating_Learn_Test_data.ipynb\" target=\"_parent\"><img src=\"https://colab.research.google.com/assets/colab-badge.svg\" alt=\"Open In Colab\"/></a>"
      ]
    },
    {
      "cell_type": "markdown",
      "source": [
        "# Creating a Learn & Test data set from Iris adat"
      ],
      "metadata": {
        "id": "V5d9xhUeL1ka"
      }
    },
    {
      "cell_type": "code",
      "source": [
        "import numpy as np\n",
        "from sklearn.datasets import load_iris\n",
        "iris = load_iris()"
      ],
      "metadata": {
        "id": "g7z73nUfL167"
      },
      "execution_count": 2,
      "outputs": []
    },
    {
      "cell_type": "code",
      "source": [
        "iris.target"
      ],
      "metadata": {
        "colab": {
          "base_uri": "https://localhost:8080/"
        },
        "id": "scHYXyHRMEak",
        "outputId": "6067a6f4-59c5-45be-ebd6-bbb2defa52bd"
      },
      "execution_count": 3,
      "outputs": [
        {
          "output_type": "execute_result",
          "data": {
            "text/plain": [
              "array([0, 0, 0, 0, 0, 0, 0, 0, 0, 0, 0, 0, 0, 0, 0, 0, 0, 0, 0, 0, 0, 0,\n",
              "       0, 0, 0, 0, 0, 0, 0, 0, 0, 0, 0, 0, 0, 0, 0, 0, 0, 0, 0, 0, 0, 0,\n",
              "       0, 0, 0, 0, 0, 0, 1, 1, 1, 1, 1, 1, 1, 1, 1, 1, 1, 1, 1, 1, 1, 1,\n",
              "       1, 1, 1, 1, 1, 1, 1, 1, 1, 1, 1, 1, 1, 1, 1, 1, 1, 1, 1, 1, 1, 1,\n",
              "       1, 1, 1, 1, 1, 1, 1, 1, 1, 1, 1, 1, 2, 2, 2, 2, 2, 2, 2, 2, 2, 2,\n",
              "       2, 2, 2, 2, 2, 2, 2, 2, 2, 2, 2, 2, 2, 2, 2, 2, 2, 2, 2, 2, 2, 2,\n",
              "       2, 2, 2, 2, 2, 2, 2, 2, 2, 2, 2, 2, 2, 2, 2, 2, 2, 2])"
            ]
          },
          "metadata": {},
          "execution_count": 3
        }
      ]
    },
    {
      "cell_type": "markdown",
      "source": [
        "#Test Train split using np permutation function"
      ],
      "metadata": {
        "id": "4a85uL4qNiAw"
      }
    },
    {
      "cell_type": "code",
      "source": [
        "indices = np.random.permutation(len(iris.data))\n",
        "indices"
      ],
      "metadata": {
        "colab": {
          "base_uri": "https://localhost:8080/"
        },
        "id": "dxbLXd7eMGdt",
        "outputId": "8509edfe-8abd-4bd5-a732-c819a8b933e1"
      },
      "execution_count": 4,
      "outputs": [
        {
          "output_type": "execute_result",
          "data": {
            "text/plain": [
              "array([101,  92,  65,  18,  70,  75, 104,  10,  72,  22, 146, 109, 118,\n",
              "       130,  77,  43,  53,  44,   0,  40,  89,  52, 149,  56,   1, 136,\n",
              "        31,  23,  54,  37,  34,  19, 124,  85,  62,  94,  15, 125,  91,\n",
              "         3,  57,  69,  76, 128,  61,  67,  93,  55, 148,  32,  60,  95,\n",
              "        82,  80,   8,  36, 132, 142,  50,  14,   7,  12,  59,  48,   4,\n",
              "        58,  51,  13, 113, 141, 138,  81, 106,  17,  41,   5, 117,  39,\n",
              "        28, 119, 110,  79,  11,  27,  25, 143,  64,  26,  35,   6,  33,\n",
              "        73,  46,  74, 135,   9,  24,  30, 129,  87, 144,  98, 127, 131,\n",
              "       120,  66,  96, 102, 140,  38, 139, 108, 112,  84, 123, 137,  78,\n",
              "       121, 100,  71,  49,  45,  21,  16,  20,  86,  68,   2, 114,  99,\n",
              "       107,  42,  83, 122, 145, 116,  47,  29, 126, 111,  97,  90, 105,\n",
              "       147, 103,  88,  63, 134, 115, 133])"
            ]
          },
          "metadata": {},
          "execution_count": 4
        }
      ]
    },
    {
      "cell_type": "code",
      "source": [
        "n_test_samples = 12"
      ],
      "metadata": {
        "id": "0o3HbYzPMrSt"
      },
      "execution_count": 27,
      "outputs": []
    },
    {
      "cell_type": "code",
      "source": [
        "learn_data = iris.data[indices[:-n_test_samples]]\n",
        "len(learn_data)"
      ],
      "metadata": {
        "colab": {
          "base_uri": "https://localhost:8080/"
        },
        "id": "xpFZLintMv-p",
        "outputId": "3fb423a8-39c7-463b-ad2c-a37ff50706ee"
      },
      "execution_count": 28,
      "outputs": [
        {
          "output_type": "execute_result",
          "data": {
            "text/plain": [
              "138"
            ]
          },
          "metadata": {},
          "execution_count": 28
        }
      ]
    },
    {
      "cell_type": "code",
      "source": [
        "test_data = iris.data[indices[-n_test_samples:]]\n",
        "len(test_data)"
      ],
      "metadata": {
        "colab": {
          "base_uri": "https://localhost:8080/"
        },
        "id": "ihW6DqFmNF-E",
        "outputId": "d8291d06-0102-453f-c8e2-a7e81d7b40b9"
      },
      "execution_count": 29,
      "outputs": [
        {
          "output_type": "execute_result",
          "data": {
            "text/plain": [
              "12"
            ]
          },
          "metadata": {},
          "execution_count": 29
        }
      ]
    },
    {
      "cell_type": "code",
      "source": [
        "learn_lables = iris.target[indices[:-n_test_samples]]\n",
        "len(learn_lables)"
      ],
      "metadata": {
        "colab": {
          "base_uri": "https://localhost:8080/"
        },
        "id": "gUW-i4ZmNQqo",
        "outputId": "c0a7ebca-5696-4d34-b552-56d3e1afda75"
      },
      "execution_count": 30,
      "outputs": [
        {
          "output_type": "execute_result",
          "data": {
            "text/plain": [
              "138"
            ]
          },
          "metadata": {},
          "execution_count": 30
        }
      ]
    },
    {
      "cell_type": "code",
      "source": [
        "test_lables = iris.target[indices[-n_test_samples:]]\n",
        "len(test_lables)"
      ],
      "metadata": {
        "colab": {
          "base_uri": "https://localhost:8080/"
        },
        "id": "6scy5ZPKNbFu",
        "outputId": "3e9eaed4-bdeb-4d48-b85b-fe56e6dbe9b0"
      },
      "execution_count": 31,
      "outputs": [
        {
          "output_type": "execute_result",
          "data": {
            "text/plain": [
              "12"
            ]
          },
          "metadata": {},
          "execution_count": 31
        }
      ]
    },
    {
      "cell_type": "markdown",
      "source": [
        "# test train split usig sklearn\n",
        "\n"
      ],
      "metadata": {
        "id": "Ea0f_cNaNqaD"
      }
    },
    {
      "cell_type": "code",
      "source": [
        "from sklearn.datasets import load_iris\n",
        "from sklearn.model_selection import train_test_split\n",
        "iris = load_iris()\n"
      ],
      "metadata": {
        "id": "R-l2VMfBNpo_"
      },
      "execution_count": 53,
      "outputs": []
    },
    {
      "cell_type": "code",
      "source": [
        "type(iris.data)"
      ],
      "metadata": {
        "colab": {
          "base_uri": "https://localhost:8080/"
        },
        "id": "uTdLXs--QVux",
        "outputId": "1cba26cf-70c1-45c7-c6b2-e928e4ecf6d9"
      },
      "execution_count": 54,
      "outputs": [
        {
          "output_type": "execute_result",
          "data": {
            "text/plain": [
              "numpy.ndarray"
            ]
          },
          "metadata": {},
          "execution_count": 54
        }
      ]
    },
    {
      "cell_type": "code",
      "source": [
        "iris.data = np.delete(iris.data,[range(0,9)],0)"
      ],
      "metadata": {
        "id": "rtIu7GX4RBUe"
      },
      "execution_count": 55,
      "outputs": []
    },
    {
      "cell_type": "code",
      "source": [
        "iris.target = np.delete(iris.target,[range(0,9)],0)"
      ],
      "metadata": {
        "id": "96R6zvLcRtQs"
      },
      "execution_count": 56,
      "outputs": []
    },
    {
      "cell_type": "code",
      "source": [
        "len(iris.target)"
      ],
      "metadata": {
        "colab": {
          "base_uri": "https://localhost:8080/"
        },
        "id": "rT5cNMRVRpk1",
        "outputId": "ed7d3796-83ff-4e22-b640-c2b4cad8ce77"
      },
      "execution_count": 57,
      "outputs": [
        {
          "output_type": "execute_result",
          "data": {
            "text/plain": [
              "141"
            ]
          },
          "metadata": {},
          "execution_count": 57
        }
      ]
    },
    {
      "cell_type": "code",
      "source": [
        "data, labels = iris.data, iris.target\n",
        "\n",
        "res = train_test_split(data, labels, \n",
        "                       train_size=0.8,\n",
        "                       test_size=0.2,\n",
        "                       random_state=42)"
      ],
      "metadata": {
        "id": "yN27_IgzR4Kj"
      },
      "execution_count": 58,
      "outputs": []
    },
    {
      "cell_type": "code",
      "source": [
        "type(res)"
      ],
      "metadata": {
        "colab": {
          "base_uri": "https://localhost:8080/"
        },
        "id": "2XBZpQvmODR0",
        "outputId": "b08dc647-4554-46d6-acf0-fab383468569"
      },
      "execution_count": 59,
      "outputs": [
        {
          "output_type": "execute_result",
          "data": {
            "text/plain": [
              "list"
            ]
          },
          "metadata": {},
          "execution_count": 59
        }
      ]
    },
    {
      "cell_type": "code",
      "source": [
        "train_data, test_data, train_labels, test_labels = res"
      ],
      "metadata": {
        "id": "zrcAaDy7OGyc"
      },
      "execution_count": 60,
      "outputs": []
    },
    {
      "cell_type": "code",
      "source": [
        "len(train_data)"
      ],
      "metadata": {
        "colab": {
          "base_uri": "https://localhost:8080/"
        },
        "id": "u1O5kjuGOQ0h",
        "outputId": "dba36a31-d1b7-4f47-e075-26685501616c"
      },
      "execution_count": 61,
      "outputs": [
        {
          "output_type": "execute_result",
          "data": {
            "text/plain": [
              "112"
            ]
          },
          "metadata": {},
          "execution_count": 61
        }
      ]
    },
    {
      "cell_type": "code",
      "source": [
        "\"bin count Train {} test {} \".format(np.bincount(train_labels),np.bincount(test_labels))"
      ],
      "metadata": {
        "colab": {
          "base_uri": "https://localhost:8080/",
          "height": 37
        },
        "id": "B1kXKPwKPF1y",
        "outputId": "7cdb6012-af16-4922-8bf0-e284f232e1f7"
      },
      "execution_count": 62,
      "outputs": [
        {
          "output_type": "execute_result",
          "data": {
            "application/vnd.google.colaboratory.intrinsic+json": {
              "type": "string"
            },
            "text/plain": [
              "'bin count Train [34 42 36] test [ 7  8 14] '"
            ]
          },
          "metadata": {},
          "execution_count": 62
        }
      ]
    },
    {
      "cell_type": "markdown",
      "source": [
        "# # test train split usig sklearn with **stratification**"
      ],
      "metadata": {
        "id": "Wk2RKSuoO19B"
      }
    },
    {
      "cell_type": "code",
      "source": [
        "from sklearn.datasets import load_iris\n",
        "from sklearn.model_selection import train_test_split\n",
        "iris = load_iris()\n",
        "data, labels = iris.data, iris.target\n",
        "\n",
        "res_st = train_test_split(data, labels, \n",
        "                       train_size=0.8,\n",
        "                       test_size=0.2,\n",
        "                       random_state=42,\n",
        "                       stratify=labels)\n",
        "train_data_st, test_data_st, train_labels_st, test_labels_st = res_st"
      ],
      "metadata": {
        "id": "MpmMgITaO7_A"
      },
      "execution_count": 63,
      "outputs": []
    },
    {
      "cell_type": "code",
      "source": [
        "\"bin count Train {} test {} \".format(np.bincount(train_labels_st),np.bincount(test_labels_st))"
      ],
      "metadata": {
        "colab": {
          "base_uri": "https://localhost:8080/",
          "height": 37
        },
        "id": "RLiyco_OPrQa",
        "outputId": "e5d64dce-8ecf-4d5a-8a0f-ef0af57c8c07"
      },
      "execution_count": 64,
      "outputs": [
        {
          "output_type": "execute_result",
          "data": {
            "application/vnd.google.colaboratory.intrinsic+json": {
              "type": "string"
            },
            "text/plain": [
              "'bin count Train [40 40 40] test [10 10 10] '"
            ]
          },
          "metadata": {},
          "execution_count": 64
        }
      ]
    }
  ]
}