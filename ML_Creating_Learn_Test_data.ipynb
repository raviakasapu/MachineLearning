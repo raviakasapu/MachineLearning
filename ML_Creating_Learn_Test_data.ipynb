{
  "nbformat": 4,
  "nbformat_minor": 0,
  "metadata": {
    "colab": {
      "name": "ML_Creating_Learn_Test_data.ipynb",
      "provenance": [],
      "collapsed_sections": [],
      "authorship_tag": "ABX9TyOv40LHsMGBVkH8JcPZJFzu",
      "include_colab_link": true
    },
    "kernelspec": {
      "name": "python3",
      "display_name": "Python 3"
    },
    "language_info": {
      "name": "python"
    }
  },
  "cells": [
    {
      "cell_type": "markdown",
      "metadata": {
        "id": "view-in-github",
        "colab_type": "text"
      },
      "source": [
        "<a href=\"https://colab.research.google.com/github/raviakasapu/MachineLearning/blob/main/ML_Creating_Learn_Test_data.ipynb\" target=\"_parent\"><img src=\"https://colab.research.google.com/assets/colab-badge.svg\" alt=\"Open In Colab\"/></a>"
      ]
    },
    {
      "cell_type": "markdown",
      "source": [
        "# Creating a Learn & Test data set from Iris adat"
      ],
      "metadata": {
        "id": "V5d9xhUeL1ka"
      }
    },
    {
      "cell_type": "code",
      "source": [
        "import numpy as np\n",
        "from sklearn.datasets import load_iris\n",
        "iris = load_iris()"
      ],
      "metadata": {
        "id": "g7z73nUfL167"
      },
      "execution_count": 1,
      "outputs": []
    },
    {
      "cell_type": "code",
      "source": [
        "iris.target"
      ],
      "metadata": {
        "colab": {
          "base_uri": "https://localhost:8080/"
        },
        "id": "scHYXyHRMEak",
        "outputId": "6227ebfe-4ee8-405f-f8ab-6d180973f498"
      },
      "execution_count": 2,
      "outputs": [
        {
          "output_type": "execute_result",
          "data": {
            "text/plain": [
              "array([0, 0, 0, 0, 0, 0, 0, 0, 0, 0, 0, 0, 0, 0, 0, 0, 0, 0, 0, 0, 0, 0,\n",
              "       0, 0, 0, 0, 0, 0, 0, 0, 0, 0, 0, 0, 0, 0, 0, 0, 0, 0, 0, 0, 0, 0,\n",
              "       0, 0, 0, 0, 0, 0, 1, 1, 1, 1, 1, 1, 1, 1, 1, 1, 1, 1, 1, 1, 1, 1,\n",
              "       1, 1, 1, 1, 1, 1, 1, 1, 1, 1, 1, 1, 1, 1, 1, 1, 1, 1, 1, 1, 1, 1,\n",
              "       1, 1, 1, 1, 1, 1, 1, 1, 1, 1, 1, 1, 2, 2, 2, 2, 2, 2, 2, 2, 2, 2,\n",
              "       2, 2, 2, 2, 2, 2, 2, 2, 2, 2, 2, 2, 2, 2, 2, 2, 2, 2, 2, 2, 2, 2,\n",
              "       2, 2, 2, 2, 2, 2, 2, 2, 2, 2, 2, 2, 2, 2, 2, 2, 2, 2])"
            ]
          },
          "metadata": {},
          "execution_count": 2
        }
      ]
    },
    {
      "cell_type": "markdown",
      "source": [
        "#Test Train split using np permutation function"
      ],
      "metadata": {
        "id": "4a85uL4qNiAw"
      }
    },
    {
      "cell_type": "code",
      "source": [
        "indices = np.random.permutation(len(iris.data))\n",
        "indices"
      ],
      "metadata": {
        "colab": {
          "base_uri": "https://localhost:8080/"
        },
        "id": "dxbLXd7eMGdt",
        "outputId": "52bed5bb-6a23-4fcf-cea7-e7484af6ee69"
      },
      "execution_count": 3,
      "outputs": [
        {
          "output_type": "execute_result",
          "data": {
            "text/plain": [
              "array([100,  85,   2,  88, 113,  79,  20, 133,  52,  56, 132,  58,  13,\n",
              "        46,  31,  70,  15,  24,   0,  57, 126,  28,  95,  37, 123,  91,\n",
              "       146,  40, 127, 119,   8,  17, 125,  32, 145, 149,  19, 114,  27,\n",
              "       129, 116,  22,  73,  41,   7,  26,  43,  78, 147, 130,  66,  62,\n",
              "       106,  50, 120,  71,  94, 128, 108, 140, 148, 131,  97,  83,  18,\n",
              "        80,  14, 104,   1, 134, 102, 115,  81, 141, 143,  34, 137, 111,\n",
              "       103,   9,  74,   6,  33, 107, 142,  76, 117, 118,  23,  11,  42,\n",
              "        98,  68,  82,  59,  84,  65,  86,  96, 122,  29,  16, 136, 144,\n",
              "        64,   3,  10,  89,  63,  48,  30, 138,  60,  55,  49,  51,  47,\n",
              "       105,  53,  36,  61, 135,  90,   4,  25,  44,  87,  77,  67,  45,\n",
              "       139,   5,  92,  21,  54, 124,  69,  72,  93,  38, 101,  75, 112,\n",
              "        35,  99,  39,  12, 109, 121, 110])"
            ]
          },
          "metadata": {},
          "execution_count": 3
        }
      ]
    },
    {
      "cell_type": "code",
      "source": [
        "n_test_samples = 12"
      ],
      "metadata": {
        "id": "0o3HbYzPMrSt"
      },
      "execution_count": 4,
      "outputs": []
    },
    {
      "cell_type": "code",
      "source": [
        "learn_data = iris.data[indices[:-n_test_samples]]\n",
        "len(learn_data)"
      ],
      "metadata": {
        "colab": {
          "base_uri": "https://localhost:8080/"
        },
        "id": "xpFZLintMv-p",
        "outputId": "d89c53fc-9137-4161-cffa-8d82f1df01d6"
      },
      "execution_count": 5,
      "outputs": [
        {
          "output_type": "execute_result",
          "data": {
            "text/plain": [
              "138"
            ]
          },
          "metadata": {},
          "execution_count": 5
        }
      ]
    },
    {
      "cell_type": "code",
      "source": [
        "test_data = iris.data[indices[-n_test_samples:]]\n",
        "len(test_data)"
      ],
      "metadata": {
        "colab": {
          "base_uri": "https://localhost:8080/"
        },
        "id": "ihW6DqFmNF-E",
        "outputId": "582b06f9-8a56-40e3-c4cb-8206e82bfa96"
      },
      "execution_count": 6,
      "outputs": [
        {
          "output_type": "execute_result",
          "data": {
            "text/plain": [
              "12"
            ]
          },
          "metadata": {},
          "execution_count": 6
        }
      ]
    },
    {
      "cell_type": "code",
      "source": [
        "learn_lables = iris.target[indices[:-n_test_samples]]\n",
        "len(learn_lables)"
      ],
      "metadata": {
        "colab": {
          "base_uri": "https://localhost:8080/"
        },
        "id": "gUW-i4ZmNQqo",
        "outputId": "e1cc589e-98e4-475a-e5ca-a0507ead8530"
      },
      "execution_count": 7,
      "outputs": [
        {
          "output_type": "execute_result",
          "data": {
            "text/plain": [
              "138"
            ]
          },
          "metadata": {},
          "execution_count": 7
        }
      ]
    },
    {
      "cell_type": "code",
      "source": [
        "test_lables = iris.target[indices[-n_test_samples:]]\n",
        "len(test_lables)"
      ],
      "metadata": {
        "colab": {
          "base_uri": "https://localhost:8080/"
        },
        "id": "6scy5ZPKNbFu",
        "outputId": "88229643-33c7-417c-b47e-dda33d7ae42b"
      },
      "execution_count": 8,
      "outputs": [
        {
          "output_type": "execute_result",
          "data": {
            "text/plain": [
              "12"
            ]
          },
          "metadata": {},
          "execution_count": 8
        }
      ]
    },
    {
      "cell_type": "markdown",
      "source": [
        "# test train split usig sklearn\n",
        "\n"
      ],
      "metadata": {
        "id": "Ea0f_cNaNqaD"
      }
    },
    {
      "cell_type": "code",
      "source": [
        "from sklearn.datasets import load_iris\n",
        "from sklearn.model_selection import train_test_split\n",
        "iris = load_iris()\n"
      ],
      "metadata": {
        "id": "R-l2VMfBNpo_"
      },
      "execution_count": 9,
      "outputs": []
    },
    {
      "cell_type": "code",
      "source": [
        "type(iris.data)"
      ],
      "metadata": {
        "colab": {
          "base_uri": "https://localhost:8080/"
        },
        "id": "uTdLXs--QVux",
        "outputId": "6d8ce362-2109-437e-85e4-d15228b8ff05"
      },
      "execution_count": 10,
      "outputs": [
        {
          "output_type": "execute_result",
          "data": {
            "text/plain": [
              "numpy.ndarray"
            ]
          },
          "metadata": {},
          "execution_count": 10
        }
      ]
    },
    {
      "cell_type": "code",
      "source": [
        "iris.data = np.delete(iris.data,[range(0,9)],0)"
      ],
      "metadata": {
        "id": "rtIu7GX4RBUe"
      },
      "execution_count": 11,
      "outputs": []
    },
    {
      "cell_type": "code",
      "source": [
        "iris.target = np.delete(iris.target,[range(0,9)],0)"
      ],
      "metadata": {
        "id": "96R6zvLcRtQs"
      },
      "execution_count": 12,
      "outputs": []
    },
    {
      "cell_type": "code",
      "source": [
        "len(iris.target)"
      ],
      "metadata": {
        "colab": {
          "base_uri": "https://localhost:8080/"
        },
        "id": "rT5cNMRVRpk1",
        "outputId": "637c8e4c-faa4-4c1a-dbcd-5bd1017a0763"
      },
      "execution_count": 13,
      "outputs": [
        {
          "output_type": "execute_result",
          "data": {
            "text/plain": [
              "141"
            ]
          },
          "metadata": {},
          "execution_count": 13
        }
      ]
    },
    {
      "cell_type": "code",
      "source": [
        "data, labels = iris.data, iris.target\n",
        "\n",
        "res = train_test_split(data, labels, \n",
        "                       train_size=0.8,\n",
        "                       test_size=0.2,\n",
        "                       random_state=42)"
      ],
      "metadata": {
        "id": "yN27_IgzR4Kj"
      },
      "execution_count": 14,
      "outputs": []
    },
    {
      "cell_type": "code",
      "source": [
        "type(res)"
      ],
      "metadata": {
        "colab": {
          "base_uri": "https://localhost:8080/"
        },
        "id": "2XBZpQvmODR0",
        "outputId": "72b0bb8c-65fd-4cbb-8f25-3396b687c0e4"
      },
      "execution_count": 15,
      "outputs": [
        {
          "output_type": "execute_result",
          "data": {
            "text/plain": [
              "list"
            ]
          },
          "metadata": {},
          "execution_count": 15
        }
      ]
    },
    {
      "cell_type": "code",
      "source": [
        "train_data, test_data, train_labels, test_labels = res"
      ],
      "metadata": {
        "id": "zrcAaDy7OGyc"
      },
      "execution_count": 16,
      "outputs": []
    },
    {
      "cell_type": "code",
      "source": [
        "len(train_data)"
      ],
      "metadata": {
        "colab": {
          "base_uri": "https://localhost:8080/"
        },
        "id": "u1O5kjuGOQ0h",
        "outputId": "661292ea-67af-4060-c131-8cc366d26e2d"
      },
      "execution_count": 17,
      "outputs": [
        {
          "output_type": "execute_result",
          "data": {
            "text/plain": [
              "112"
            ]
          },
          "metadata": {},
          "execution_count": 17
        }
      ]
    },
    {
      "cell_type": "code",
      "source": [
        "\"bin count Train {} test {} \".format(np.bincount(train_labels),np.bincount(test_labels))"
      ],
      "metadata": {
        "colab": {
          "base_uri": "https://localhost:8080/",
          "height": 37
        },
        "id": "B1kXKPwKPF1y",
        "outputId": "6a862d26-f69f-4dba-df1a-63cedb7c9df0"
      },
      "execution_count": 18,
      "outputs": [
        {
          "output_type": "execute_result",
          "data": {
            "application/vnd.google.colaboratory.intrinsic+json": {
              "type": "string"
            },
            "text/plain": [
              "'bin count Train [34 42 36] test [ 7  8 14] '"
            ]
          },
          "metadata": {},
          "execution_count": 18
        }
      ]
    },
    {
      "cell_type": "markdown",
      "source": [
        "# # test train split usig sklearn with **stratification**"
      ],
      "metadata": {
        "id": "Wk2RKSuoO19B"
      }
    },
    {
      "cell_type": "code",
      "source": [
        "from sklearn.datasets import load_iris\n",
        "from sklearn.model_selection import train_test_split\n",
        "#iris = load_iris()\n",
        "data, labels = iris.data, iris.target\n",
        "\n",
        "res_st = train_test_split(data, labels, \n",
        "                       train_size=0.8,\n",
        "                       test_size=0.2,\n",
        "                       random_state=42,\n",
        "                       stratify=labels)\n",
        "train_data_st, test_data_st, train_labels_st, test_labels_st = res_st"
      ],
      "metadata": {
        "id": "MpmMgITaO7_A"
      },
      "execution_count": 19,
      "outputs": []
    },
    {
      "cell_type": "code",
      "source": [
        "\"bin count Train {} test {} \".format(np.bincount(train_labels_st),np.bincount(test_labels_st))"
      ],
      "metadata": {
        "colab": {
          "base_uri": "https://localhost:8080/",
          "height": 37
        },
        "id": "RLiyco_OPrQa",
        "outputId": "475bd8bd-cba9-4e5d-fdd4-16c83ec949dd"
      },
      "execution_count": 20,
      "outputs": [
        {
          "output_type": "execute_result",
          "data": {
            "application/vnd.google.colaboratory.intrinsic+json": {
              "type": "string"
            },
            "text/plain": [
              "'bin count Train [32 40 40] test [ 9 10 10] '"
            ]
          },
          "metadata": {},
          "execution_count": 20
        }
      ]
    }
  ]
}