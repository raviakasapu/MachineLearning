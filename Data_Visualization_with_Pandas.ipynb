{
  "nbformat": 4,
  "nbformat_minor": 0,
  "metadata": {
    "colab": {
      "name": "Data_Visualization_with_Pandas.ipynb",
      "provenance": [],
      "collapsed_sections": [],
      "authorship_tag": "ABX9TyO7Kj72MYdAZUnjBrUZviex",
      "include_colab_link": true
    },
    "kernelspec": {
      "name": "python3",
      "display_name": "Python 3"
    },
    "language_info": {
      "name": "python"
    }
  },
  "cells": [
    {
      "cell_type": "markdown",
      "metadata": {
        "id": "view-in-github",
        "colab_type": "text"
      },
      "source": [
        "<a href=\"https://colab.research.google.com/github/raviakasapu/MachineLearning/blob/main/Data_Visualization_with_Pandas.ipynb\" target=\"_parent\"><img src=\"https://colab.research.google.com/assets/colab-badge.svg\" alt=\"Open In Colab\"/></a>"
      ]
    },
    {
      "cell_type": "markdown",
      "source": [
        "# Data Visualization with Panda\n",
        "## using matplotlib"
      ],
      "metadata": {
        "id": "qLQlDq6kBhTK"
      }
    },
    {
      "cell_type": "code",
      "source": [
        "import pandas as pd"
      ],
      "metadata": {
        "id": "IPCeZwgEBnG-"
      },
      "execution_count": 1,
      "outputs": []
    },
    {
      "cell_type": "code",
      "source": [
        "cities = {\"name\": [\"London\", \"Berlin\", \"Madrid\", \"Rome\", \n",
        "                   \"Paris\", \"Vienna\", \"Bucharest\", \"Hamburg\", \n",
        "                   \"Budapest\", \"Warsaw\", \"Barcelona\", \n",
        "                   \"Munich\", \"Milan\"],\n",
        "          \"population\": [8615246, 3562166, 3165235, 2874038,\n",
        "                         2273305, 1805681, 1803425, 1760433,\n",
        "                         1754000, 1740119, 1602386, 1493900,\n",
        "                         1350680],\n",
        "          \"area\" : [1572, 891.85, 605.77, 1285, \n",
        "                    105.4, 414.6, 228, 755, \n",
        "                    525.2, 517, 101.9, 310.4, \n",
        "                    181.8]\n",
        "}\n",
        "\n",
        "city_frame = pd.DataFrame(cities,\n",
        "                          columns=[\"population\", \"area\"],\n",
        "                          index=cities[\"name\"])\n",
        "print(city_frame)"
      ],
      "metadata": {
        "colab": {
          "base_uri": "https://localhost:8080/"
        },
        "id": "IGs7yNNFBrgQ",
        "outputId": "d4b2eb6a-20f7-4cc5-8381-04349bc3a249"
      },
      "execution_count": 2,
      "outputs": [
        {
          "output_type": "stream",
          "name": "stdout",
          "text": [
            "           population     area\n",
            "London        8615246  1572.00\n",
            "Berlin        3562166   891.85\n",
            "Madrid        3165235   605.77\n",
            "Rome          2874038  1285.00\n",
            "Paris         2273305   105.40\n",
            "Vienna        1805681   414.60\n",
            "Bucharest     1803425   228.00\n",
            "Hamburg       1760433   755.00\n",
            "Budapest      1754000   525.20\n",
            "Warsaw        1740119   517.00\n",
            "Barcelona     1602386   101.90\n",
            "Munich        1493900   310.40\n",
            "Milan         1350680   181.80\n"
          ]
        }
      ]
    },
    {
      "cell_type": "markdown",
      "source": [
        "## multiple axes plot"
      ],
      "metadata": {
        "id": "iXj77ITMDd6K"
      }
    },
    {
      "cell_type": "code",
      "source": [
        "import matplotlib.pyplot as plt"
      ],
      "metadata": {
        "id": "sbRNjaCHB4uX"
      },
      "execution_count": 4,
      "outputs": []
    },
    {
      "cell_type": "code",
      "source": [
        "fig, ax = plt.subplots()\n",
        "fig.suptitle(\"Stats\")\n",
        "\n",
        "ax.set_ylabel(\"population\")\n",
        "ax.set_xlabel(\"cities\")\n",
        "\n",
        "ax2 = ax.twinx()\n",
        "ax2.set_ylabel(\"Area\")\n",
        "\n",
        "city_frame[\"population\"].plot(ax=ax, \n",
        "                              style=\"b-\",\n",
        "                              xticks=range(len(city_frame.index)),\n",
        "                              use_index=True, \n",
        "                              rot=90)\n",
        "city_frame[\"area\"].plot(ax=ax2, \n",
        "                        style=\"g-\",\n",
        "                        use_index=True, \n",
        "                        rot=90)\n",
        "\n",
        "plt.show()"
      ],
      "metadata": {
        "colab": {
          "base_uri": "https://localhost:8080/",
          "height": 349
        },
        "id": "VMyE4-WiB8si",
        "outputId": "cd1101f4-c38f-4bbe-a2f6-30d238b16ea9"
      },
      "execution_count": 15,
      "outputs": [
        {
          "output_type": "display_data",
          "data": {
            "image/png": "[encoded data removed]",
            "text/plain": [
              "<Figure size 432x288 with 2 Axes>"
            ]
          },
          "metadata": {
            "needs_background": "light"
          }
        }
      ]
    },
    {
      "cell_type": "markdown",
      "source": [
        "## using multiple Y Axis"
      ],
      "metadata": {
        "id": "Bfazcew5DjMi"
      }
    },
    {
      "cell_type": "code",
      "source": [
        "city_frame[\"density\"] = city_frame[\"population\"] / city_frame[\"area\"]\n",
        "\n",
        "city_frame"
      ],
      "metadata": {
        "colab": {
          "base_uri": "https://localhost:8080/",
          "height": 444
        },
        "id": "bv0ZPIvPCYAX",
        "outputId": "e9ad4a54-7f27-4ac6-c3a6-bafb1df290a6"
      },
      "execution_count": 16,
      "outputs": [
        {
          "output_type": "execute_result",
          "data": {
            "text/html": [
              "\n",
              "  <div id=\"df-b15c6988-a50e-4158-a872-347ae9a9d92c\">\n",
              "    <div class=\"colab-df-container\">\n",
              "      <div>\n",
              "<style scoped>\n",
              "    .dataframe tbody tr th:only-of-type {\n",
              "        vertical-align: middle;\n",
              "    }\n",
              "\n",
              "    .dataframe tbody tr th {\n",
              "        vertical-align: top;\n",
              "    }\n",
              "\n",
              "    .dataframe thead th {\n",
              "        text-align: right;\n",
              "    }\n",
              "</style>\n",
              "<table border=\"1\" class=\"dataframe\">\n",
              "  <thead>\n",
              "    <tr style=\"text-align: right;\">\n",
              "      <th></th>\n",
              "      <th>population</th>\n",
              "      <th>area</th>\n",
              "      <th>density</th>\n",
              "    </tr>\n",
              "  </thead>\n",
              "  <tbody>\n",
              "    <tr>\n",
              "      <th>London</th>\n",
              "      <td>8615246</td>\n",
              "      <td>1572.00</td>\n",
              "      <td>5480.436387</td>\n",
              "    </tr>\n",
              "    <tr>\n",
              "      <th>Berlin</th>\n",
              "      <td>3562166</td>\n",
              "      <td>891.85</td>\n",
              "      <td>3994.131300</td>\n",
              "    </tr>\n",
              "    <tr>\n",
              "      <th>Madrid</th>\n",
              "      <td>3165235</td>\n",
              "      <td>605.77</td>\n",
              "      <td>5225.143206</td>\n",
              "    </tr>\n",
              "    <tr>\n",
              "      <th>Rome</th>\n",
              "      <td>2874038</td>\n",
              "      <td>1285.00</td>\n",
              "      <td>2236.605447</td>\n",
              "    </tr>\n",
              "    <tr>\n",
              "      <th>Paris</th>\n",
              "      <td>2273305</td>\n",
              "      <td>105.40</td>\n",
              "      <td>21568.358634</td>\n",
              "    </tr>\n",
              "    <tr>\n",
              "      <th>Vienna</th>\n",
              "      <td>1805681</td>\n",
              "      <td>414.60</td>\n",
              "      <td>4355.236372</td>\n",
              "    </tr>\n",
              "    <tr>\n",
              "      <th>Bucharest</th>\n",
              "      <td>1803425</td>\n",
              "      <td>228.00</td>\n",
              "      <td>7909.758772</td>\n",
              "    </tr>\n",
              "    <tr>\n",
              "      <th>Hamburg</th>\n",
              "      <td>1760433</td>\n",
              "      <td>755.00</td>\n",
              "      <td>2331.699338</td>\n",
              "    </tr>\n",
              "    <tr>\n",
              "      <th>Budapest</th>\n",
              "      <td>1754000</td>\n",
              "      <td>525.20</td>\n",
              "      <td>3339.680122</td>\n",
              "    </tr>\n",
              "    <tr>\n",
              "      <th>Warsaw</th>\n",
              "      <td>1740119</td>\n",
              "      <td>517.00</td>\n",
              "      <td>3365.800774</td>\n",
              "    </tr>\n",
              "    <tr>\n",
              "      <th>Barcelona</th>\n",
              "      <td>1602386</td>\n",
              "      <td>101.90</td>\n",
              "      <td>15725.083415</td>\n",
              "    </tr>\n",
              "    <tr>\n",
              "      <th>Munich</th>\n",
              "      <td>1493900</td>\n",
              "      <td>310.40</td>\n",
              "      <td>4812.822165</td>\n",
              "    </tr>\n",
              "    <tr>\n",
              "      <th>Milan</th>\n",
              "      <td>1350680</td>\n",
              "      <td>181.80</td>\n",
              "      <td>7429.482948</td>\n",
              "    </tr>\n",
              "  </tbody>\n",
              "</table>\n",
              "</div>\n",
              "      <button class=\"colab-df-convert\" onclick=\"convertToInteractive('df-b15c6988-a50e-4158-a872-347ae9a9d92c')\"\n",
              "              title=\"Convert this dataframe to an interactive table.\"\n",
              "              style=\"display:none;\">\n",
              "        \n",
              "  <svg xmlns=\"http://www.w3.org/2000/svg\" height=\"24px\"viewBox=\"0 0 24 24\"\n",
              "       width=\"24px\">\n",
              "    <path d=\"M0 0h24v24H0V0z\" fill=\"none\"/>\n",
              "    <path d=\"M18.56 5.44l.94 2.06.94-2.06 2.06-.94-2.06-.94-.94-2.06-.94 2.06-2.06.94zm-11 1L8.5 8.5l.94-2.06 2.06-.94-2.06-.94L8.5 2.5l-.94 2.06-2.06.94zm10 10l.94 2.06.94-2.06 2.06-.94-2.06-.94-.94-2.06-.94 2.06-2.06.94z\"/><path d=\"M17.41 7.96l-1.37-1.37c-.4-.4-.92-.59-1.43-.59-.52 0-1.04.2-1.43.59L10.3 9.45l-7.72 7.72c-.78.78-.78 2.05 0 2.83L4 21.41c.39.39.9.59 1.41.59.51 0 1.02-.2 1.41-.59l7.78-7.78 2.81-2.81c.8-.78.8-2.07 0-2.86zM5.41 20L4 18.59l7.72-7.72 1.47 1.35L5.41 20z\"/>\n",
              "  </svg>\n",
              "      </button>\n",
              "      \n",
              "  <style>\n",
              "    .colab-df-container {\n",
              "      display:flex;\n",
              "      flex-wrap:wrap;\n",
              "      gap: 12px;\n",
              "    }\n",
              "\n",
              "    .colab-df-convert {\n",
              "      background-color: #E8F0FE;\n",
              "      border: none;\n",
              "      border-radius: 50%;\n",
              "      cursor: pointer;\n",
              "      display: none;\n",
              "      fill: #1967D2;\n",
              "      height: 32px;\n",
              "      padding: 0 0 0 0;\n",
              "      width: 32px;\n",
              "    }\n",
              "\n",
              "    .colab-df-convert:hover {\n",
              "      background-color: #E2EBFA;\n",
              "      box-shadow: 0px 1px 2px rgba(60, 64, 67, 0.3), 0px 1px 3px 1px rgba(60, 64, 67, 0.15);\n",
              "      fill: #174EA6;\n",
              "    }\n",
              "\n",
              "    [theme=dark] .colab-df-convert {\n",
              "      background-color: #3B4455;\n",
              "      fill: #D2E3FC;\n",
              "    }\n",
              "\n",
              "    [theme=dark] .colab-df-convert:hover {\n",
              "      background-color: #434B5C;\n",
              "      box-shadow: 0px 1px 3px 1px rgba(0, 0, 0, 0.15);\n",
              "      filter: drop-shadow(0px 1px 2px rgba(0, 0, 0, 0.3));\n",
              "      fill: #FFFFFF;\n",
              "    }\n",
              "  </style>\n",
              "\n",
              "      <script>\n",
              "        const buttonEl =\n",
              "          document.querySelector('#df-b15c6988-a50e-4158-a872-347ae9a9d92c button.colab-df-convert');\n",
              "        buttonEl.style.display =\n",
              "          google.colab.kernel.accessAllowed ? 'block' : 'none';\n",
              "\n",
              "        async function convertToInteractive(key) {\n",
              "          const element = document.querySelector('#df-b15c6988-a50e-4158-a872-347ae9a9d92c');\n",
              "          const dataTable =\n",
              "            await google.colab.kernel.invokeFunction('convertToInteractive',\n",
              "                                                     [key], {});\n",
              "          if (!dataTable) return;\n",
              "\n",
              "          const docLinkHtml = 'Like what you see? Visit the ' +\n",
              "            '<a target=\"_blank\" href=https://colab.research.google.com/notebooks/data_table.ipynb>data table notebook</a>'\n",
              "            + ' to learn more about interactive tables.';\n",
              "          element.innerHTML = '';\n",
              "          dataTable['output_type'] = 'display_data';\n",
              "          await google.colab.output.renderOutput(dataTable, element);\n",
              "          const docLink = document.createElement('div');\n",
              "          docLink.innerHTML = docLinkHtml;\n",
              "          element.appendChild(docLink);\n",
              "        }\n",
              "      </script>\n",
              "    </div>\n",
              "  </div>\n",
              "  "
            ],
            "text/plain": [
              "           population     area       density\n",
              "London        8615246  1572.00   5480.436387\n",
              "Berlin        3562166   891.85   3994.131300\n",
              "Madrid        3165235   605.77   5225.143206\n",
              "Rome          2874038  1285.00   2236.605447\n",
              "Paris         2273305   105.40  21568.358634\n",
              "Vienna        1805681   414.60   4355.236372\n",
              "Bucharest     1803425   228.00   7909.758772\n",
              "Hamburg       1760433   755.00   2331.699338\n",
              "Budapest      1754000   525.20   3339.680122\n",
              "Warsaw        1740119   517.00   3365.800774\n",
              "Barcelona     1602386   101.90  15725.083415\n",
              "Munich        1493900   310.40   4812.822165\n",
              "Milan         1350680   181.80   7429.482948"
            ]
          },
          "metadata": {},
          "execution_count": 16
        }
      ]
    }
  ]
}