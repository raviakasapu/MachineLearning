{
  "nbformat": 4,
  "nbformat_minor": 0,
  "metadata": {
    "colab": {
      "name": "ML_Simple_Linear_Regression.ipynb",
      "provenance": [],
      "collapsed_sections": [],
      "authorship_tag": "ABX9TyMP63qvT2oDcvjPcPPZCs4l",
      "include_colab_link": true
    },
    "kernelspec": {
      "name": "python3",
      "display_name": "Python 3"
    },
    "language_info": {
      "name": "python"
    }
  },
  "cells": [
    {
      "cell_type": "markdown",
      "metadata": {
        "id": "view-in-github",
        "colab_type": "text"
      },
      "source": [
        "<a href=\"https://colab.research.google.com/github/raviakasapu/MachineLearning/blob/main/ML_Simple_Linear_Regression.ipynb\" target=\"_parent\"><img src=\"https://colab.research.google.com/assets/colab-badge.svg\" alt=\"Open In Colab\"/></a>"
      ]
    },
    {
      "cell_type": "markdown",
      "source": [
        "# Linear Regression - Single variable"
      ],
      "metadata": {
        "id": "-6fwBu1WSsp-"
      }
    },
    {
      "cell_type": "markdown",
      "source": [
        "### **Load data**"
      ],
      "metadata": {
        "id": "Yqtq0wCdhw3T"
      }
    },
    {
      "cell_type": "code",
      "source": [
        "from google.colab import drive\n",
        "drive.mount('/content/drive/')\n",
        "%cd /content/drive/My\\ Drive/Colab_files/"
      ],
      "metadata": {
        "colab": {
          "base_uri": "https://localhost:8080/"
        },
        "id": "btHOnrMlSs7F",
        "outputId": "09d20f70-50c8-439f-9fa7-55a6660f0c91"
      },
      "execution_count": 1,
      "outputs": [
        {
          "output_type": "stream",
          "name": "stdout",
          "text": [
            "Mounted at /content/drive/\n",
            "/content/drive/My Drive/Colab_files\n"
          ]
        }
      ]
    },
    {
      "cell_type": "markdown",
      "source": [
        "### **import packages**"
      ],
      "metadata": {
        "id": "I8MY_MfrhzO5"
      }
    },
    {
      "cell_type": "code",
      "source": [
        "import pandas as pd\n",
        "import statsmodels.api as sm\n",
        "import numpy as np\n",
        "\n",
        "from sklearn.model_selection import train_test_split\n",
        "\n",
        "import matplotlib.pyplot as plt\n",
        "import seaborn as sns\n",
        "%matplotlib inline\n",
        "\n",
        "from scipy.stats import zscore"
      ],
      "metadata": {
        "id": "Qo8RQ8izTeP0"
      },
      "execution_count": 40,
      "outputs": []
    },
    {
      "cell_type": "code",
      "source": [
        "salary_df = pd.read_csv('salary.csv')"
      ],
      "metadata": {
        "id": "alIGFubTTkBb"
      },
      "execution_count": 3,
      "outputs": []
    },
    {
      "cell_type": "code",
      "source": [
        "salary_df.head(5)"
      ],
      "metadata": {
        "colab": {
          "base_uri": "https://localhost:8080/",
          "height": 201
        },
        "id": "Ui9HdBEKTpG8",
        "outputId": "02ae8cd0-66b0-4036-8934-3a0efc137381"
      },
      "execution_count": 4,
      "outputs": [
        {
          "output_type": "execute_result",
          "data": {
            "text/plain": [
              "   S No  Percentage  Salary\n",
              "0     1          62   27000\n",
              "1     2          76   20000\n",
              "2     3          72   24000\n",
              "3     4          60   25000\n",
              "4     5          61   18000"
            ],
            "text/html": [
              "\n",
              "  <div id=\"df-2989ffcb-ceee-47d5-92e0-81951aa97a0f\">\n",
              "    <div class=\"colab-df-container\">\n",
              "      <div>\n",
              "<style scoped>\n",
              "    .dataframe tbody tr th:only-of-type {\n",
              "        vertical-align: middle;\n",
              "    }\n",
              "\n",
              "    .dataframe tbody tr th {\n",
              "        vertical-align: top;\n",
              "    }\n",
              "\n",
              "    .dataframe thead th {\n",
              "        text-align: right;\n",
              "    }\n",
              "</style>\n",
              "<table border=\"1\" class=\"dataframe\">\n",
              "  <thead>\n",
              "    <tr style=\"text-align: right;\">\n",
              "      <th></th>\n",
              "      <th>S No</th>\n",
              "      <th>Percentage</th>\n",
              "      <th>Salary</th>\n",
              "    </tr>\n",
              "  </thead>\n",
              "  <tbody>\n",
              "    <tr>\n",
              "      <th>0</th>\n",
              "      <td>1</td>\n",
              "      <td>62</td>\n",
              "      <td>27000</td>\n",
              "    </tr>\n",
              "    <tr>\n",
              "      <th>1</th>\n",
              "      <td>2</td>\n",
              "      <td>76</td>\n",
              "      <td>20000</td>\n",
              "    </tr>\n",
              "    <tr>\n",
              "      <th>2</th>\n",
              "      <td>3</td>\n",
              "      <td>72</td>\n",
              "      <td>24000</td>\n",
              "    </tr>\n",
              "    <tr>\n",
              "      <th>3</th>\n",
              "      <td>4</td>\n",
              "      <td>60</td>\n",
              "      <td>25000</td>\n",
              "    </tr>\n",
              "    <tr>\n",
              "      <th>4</th>\n",
              "      <td>5</td>\n",
              "      <td>61</td>\n",
              "      <td>18000</td>\n",
              "    </tr>\n",
              "  </tbody>\n",
              "</table>\n",
              "</div>\n",
              "      <button class=\"colab-df-convert\" onclick=\"convertToInteractive('df-2989ffcb-ceee-47d5-92e0-81951aa97a0f')\"\n",
              "              title=\"Convert this dataframe to an interactive table.\"\n",
              "              style=\"display:none;\">\n",
              "        \n",
              "  <svg xmlns=\"http://www.w3.org/2000/svg\" height=\"24px\"viewBox=\"0 0 24 24\"\n",
              "       width=\"24px\">\n",
              "    <path d=\"M0 0h24v24H0V0z\" fill=\"none\"/>\n",
              "    <path d=\"M18.56 5.44l.94 2.06.94-2.06 2.06-.94-2.06-.94-.94-2.06-.94 2.06-2.06.94zm-11 1L8.5 8.5l.94-2.06 2.06-.94-2.06-.94L8.5 2.5l-.94 2.06-2.06.94zm10 10l.94 2.06.94-2.06 2.06-.94-2.06-.94-.94-2.06-.94 2.06-2.06.94z\"/><path d=\"M17.41 7.96l-1.37-1.37c-.4-.4-.92-.59-1.43-.59-.52 0-1.04.2-1.43.59L10.3 9.45l-7.72 7.72c-.78.78-.78 2.05 0 2.83L4 21.41c.39.39.9.59 1.41.59.51 0 1.02-.2 1.41-.59l7.78-7.78 2.81-2.81c.8-.78.8-2.07 0-2.86zM5.41 20L4 18.59l7.72-7.72 1.47 1.35L5.41 20z\"/>\n",
              "  </svg>\n",
              "      </button>\n",
              "      \n",
              "  <style>\n",
              "    .colab-df-container {\n",
              "      display:flex;\n",
              "      flex-wrap:wrap;\n",
              "      gap: 12px;\n",
              "    }\n",
              "\n",
              "    .colab-df-convert {\n",
              "      background-color: #E8F0FE;\n",
              "      border: none;\n",
              "      border-radius: 50%;\n",
              "      cursor: pointer;\n",
              "      display: none;\n",
              "      fill: #1967D2;\n",
              "      height: 32px;\n",
              "      padding: 0 0 0 0;\n",
              "      width: 32px;\n",
              "    }\n",
              "\n",
              "    .colab-df-convert:hover {\n",
              "      background-color: #E2EBFA;\n",
              "      box-shadow: 0px 1px 2px rgba(60, 64, 67, 0.3), 0px 1px 3px 1px rgba(60, 64, 67, 0.15);\n",
              "      fill: #174EA6;\n",
              "    }\n",
              "\n",
              "    [theme=dark] .colab-df-convert {\n",
              "      background-color: #3B4455;\n",
              "      fill: #D2E3FC;\n",
              "    }\n",
              "\n",
              "    [theme=dark] .colab-df-convert:hover {\n",
              "      background-color: #434B5C;\n",
              "      box-shadow: 0px 1px 3px 1px rgba(0, 0, 0, 0.15);\n",
              "      filter: drop-shadow(0px 1px 2px rgba(0, 0, 0, 0.3));\n",
              "      fill: #FFFFFF;\n",
              "    }\n",
              "  </style>\n",
              "\n",
              "      <script>\n",
              "        const buttonEl =\n",
              "          document.querySelector('#df-2989ffcb-ceee-47d5-92e0-81951aa97a0f button.colab-df-convert');\n",
              "        buttonEl.style.display =\n",
              "          google.colab.kernel.accessAllowed ? 'block' : 'none';\n",
              "\n",
              "        async function convertToInteractive(key) {\n",
              "          const element = document.querySelector('#df-2989ffcb-ceee-47d5-92e0-81951aa97a0f');\n",
              "          const dataTable =\n",
              "            await google.colab.kernel.invokeFunction('convertToInteractive',\n",
              "                                                     [key], {});\n",
              "          if (!dataTable) return;\n",
              "\n",
              "          const docLinkHtml = 'Like what you see? Visit the ' +\n",
              "            '<a target=\"_blank\" href=https://colab.research.google.com/notebooks/data_table.ipynb>data table notebook</a>'\n",
              "            + ' to learn more about interactive tables.';\n",
              "          element.innerHTML = '';\n",
              "          dataTable['output_type'] = 'display_data';\n",
              "          await google.colab.output.renderOutput(dataTable, element);\n",
              "          const docLink = document.createElement('div');\n",
              "          docLink.innerHTML = docLinkHtml;\n",
              "          element.appendChild(docLink);\n",
              "        }\n",
              "      </script>\n",
              "    </div>\n",
              "  </div>\n",
              "  "
            ]
          },
          "metadata": {},
          "execution_count": 4
        }
      ]
    },
    {
      "cell_type": "code",
      "source": [
        "salary_df.drop('S No', axis=1, inplace=True)"
      ],
      "metadata": {
        "id": "gykV-unBUDLV"
      },
      "execution_count": 5,
      "outputs": []
    },
    {
      "cell_type": "markdown",
      "source": [
        "### **exploratory data analysis**"
      ],
      "metadata": {
        "id": "o4u4Io6jh331"
      }
    },
    {
      "cell_type": "code",
      "source": [
        "salary_df['Salary'].plot.bar(figsize=[15, 7])\n",
        "\n",
        "plt.xlabel(xlabel='Row Index', size=14)\n",
        "plt.ylabel(ylabel='Salary', size=14)\n",
        "plt.title(label='Salary - Bar Chart', size=16)\n",
        "\n",
        "plt.show()"
      ],
      "metadata": {
        "colab": {
          "base_uri": "https://localhost:8080/",
          "height": 467
        },
        "id": "XdLwuokzXIs1",
        "outputId": "0b72eb28-0543-45e1-8f0f-c8eea890dd9e"
      },
      "execution_count": 6,
      "outputs": [
        {
          "output_type": "display_data",
          "data": {
            "text/plain": [
              "<Figure size 1080x504 with 1 Axes>"
            ],
            "image/png": "[encoded data removed]"
          },
          "metadata": {
            "needs_background": "light"
          }
        }
      ]
    },
    {
      "cell_type": "code",
      "source": [
        "salary_df['Salary'].plot.line(figsize=[15, 7])\n",
        "plt.xlabel(xlabel='Row Index', size=14)\n",
        "plt.ylabel(ylabel='Salary', size=14)\n",
        "plt.title(label='Salary - Bar Chart', size=16)\n",
        "\n",
        "plt.show()"
      ],
      "metadata": {
        "colab": {
          "base_uri": "https://localhost:8080/",
          "height": 463
        },
        "id": "IrbOR6l58ugM",
        "outputId": "ec8442a0-98fc-41a3-ecad-568da85418de"
      },
      "execution_count": 46,
      "outputs": [
        {
          "output_type": "display_data",
          "data": {
            "text/plain": [
              "<Figure size 1080x504 with 1 Axes>"
            ],
            "image/png": "[encoded data removed]"
          },
          "metadata": {
            "needs_background": "light"
          }
        }
      ]
    },
    {
      "cell_type": "code",
      "source": [
        "salary_df['Percentage'].plot.bar(figsize=[15, 7])\n",
        "\n",
        "plt.xlabel(xlabel='Row Index', size=14)\n",
        "plt.ylabel(ylabel='Percentage', size=14)\n",
        "plt.title(label='Percentage - Bar Chart', size=16)\n",
        "\n",
        "plt.show()"
      ],
      "metadata": {
        "colab": {
          "base_uri": "https://localhost:8080/",
          "height": 467
        },
        "id": "YCRebOlyd0f0",
        "outputId": "86a621d7-76b5-4121-a051-24c41e27fc6a"
      },
      "execution_count": 7,
      "outputs": [
        {
          "output_type": "display_data",
          "data": {
            "text/plain": [
              "<Figure size 1080x504 with 1 Axes>"
            ],
            "image/png": "[encoded data removed]"
          },
          "metadata": {
            "needs_background": "light"
          }
        }
      ]
    },
    {
      "cell_type": "code",
      "source": [
        "max(salary_df['Salary'])"
      ],
      "metadata": {
        "colab": {
          "base_uri": "https://localhost:8080/"
        },
        "id": "eJUCRI7Db5zQ",
        "outputId": "15b8bbd3-6698-4233-91a0-094d9303cc42"
      },
      "execution_count": 8,
      "outputs": [
        {
          "output_type": "execute_result",
          "data": {
            "text/plain": [
              "45000"
            ]
          },
          "metadata": {},
          "execution_count": 8
        }
      ]
    },
    {
      "cell_type": "code",
      "source": [
        "# Using magic of pandas scatter() function along with implicit figure size of 15 X 7 inches\n",
        "salary_df.plot.scatter(x='Percentage', y='Salary', color='purple', figsize=[15, 7])\n",
        "\n",
        "# Changing x-ticks ranging from 0 to 90 with step size of 5 and label size of 12\n",
        "plt.yticks(ticks=np.arange(10000, max(salary_df['Salary']), 5000), size=12)\n",
        "\n",
        "# Changing y-ticks ranging from 0 to 800 with step size of 50 and label size of 12\n",
        "plt.xticks(ticks=np.arange(30, max(salary_df['Percentage']), 5), size=12)\n",
        "\n",
        "# Labelling x-axis with a custom label and size of 14\n",
        "plt.xlabel(xlabel='Percentage', size=14)\n",
        "\n",
        "# Labelling y-axis with a custom label and size of 14\n",
        "plt.ylabel(ylabel='Salary', size=14)\n",
        "\n",
        "# Labelling title with a custom label and size of 14\n",
        "plt.title(label='Salary vs Percentage', size=16)\n",
        "\n",
        "# Dispaly the output by rendering visual on the screen\n",
        "plt.show()"
      ],
      "metadata": {
        "colab": {
          "base_uri": "https://localhost:8080/",
          "height": 467
        },
        "id": "BtqZAmUNbIJZ",
        "outputId": "f63ffc5b-1971-492e-edcf-018e4367231b"
      },
      "execution_count": 9,
      "outputs": [
        {
          "output_type": "display_data",
          "data": {
            "text/plain": [
              "<Figure size 1080x504 with 1 Axes>"
            ],
            "image/png": "[encoded data removed]"
          },
          "metadata": {
            "needs_background": "light"
          }
        }
      ]
    },
    {
      "cell_type": "markdown",
      "source": [
        "### descriptive stats"
      ],
      "metadata": {
        "id": "WjYT-Gye6hhf"
      }
    },
    {
      "cell_type": "code",
      "source": [
        "salary_df.info()"
      ],
      "metadata": {
        "colab": {
          "base_uri": "https://localhost:8080/"
        },
        "id": "tIi-3km8T4q9",
        "outputId": "4abbdc16-57b1-49b4-dfbf-640e857f1ca7"
      },
      "execution_count": 10,
      "outputs": [
        {
          "output_type": "stream",
          "name": "stdout",
          "text": [
            "<class 'pandas.core.frame.DataFrame'>\n",
            "RangeIndex: 50 entries, 0 to 49\n",
            "Data columns (total 2 columns):\n",
            " #   Column      Non-Null Count  Dtype\n",
            "---  ------      --------------  -----\n",
            " 0   Percentage  50 non-null     int64\n",
            " 1   Salary      50 non-null     int64\n",
            "dtypes: int64(2)\n",
            "memory usage: 928.0 bytes\n"
          ]
        }
      ]
    },
    {
      "cell_type": "code",
      "source": [
        "salary_df.describe()"
      ],
      "metadata": {
        "colab": {
          "base_uri": "https://localhost:8080/",
          "height": 291
        },
        "id": "N2NmhYo6T8HX",
        "outputId": "42f4af9e-387f-46e7-c68f-a60c5d5d1720"
      },
      "execution_count": 11,
      "outputs": [
        {
          "output_type": "execute_result",
          "data": {
            "text/plain": [
              "       Percentage        Salary\n",
              "count   50.000000     50.000000\n",
              "mean    63.800000  25826.000000\n",
              "std      9.820844   7671.144182\n",
              "min     37.000000  12000.000000\n",
              "25%     57.250000  20450.000000\n",
              "50%     64.000000  25000.000000\n",
              "75%     70.000000  30000.000000\n",
              "max     83.000000  45000.000000"
            ],
            "text/html": [
              "\n",
              "  <div id=\"df-ca25338c-7385-4d74-a739-af708d4a8445\">\n",
              "    <div class=\"colab-df-container\">\n",
              "      <div>\n",
              "<style scoped>\n",
              "    .dataframe tbody tr th:only-of-type {\n",
              "        vertical-align: middle;\n",
              "    }\n",
              "\n",
              "    .dataframe tbody tr th {\n",
              "        vertical-align: top;\n",
              "    }\n",
              "\n",
              "    .dataframe thead th {\n",
              "        text-align: right;\n",
              "    }\n",
              "</style>\n",
              "<table border=\"1\" class=\"dataframe\">\n",
              "  <thead>\n",
              "    <tr style=\"text-align: right;\">\n",
              "      <th></th>\n",
              "      <th>Percentage</th>\n",
              "      <th>Salary</th>\n",
              "    </tr>\n",
              "  </thead>\n",
              "  <tbody>\n",
              "    <tr>\n",
              "      <th>count</th>\n",
              "      <td>50.000000</td>\n",
              "      <td>50.000000</td>\n",
              "    </tr>\n",
              "    <tr>\n",
              "      <th>mean</th>\n",
              "      <td>63.800000</td>\n",
              "      <td>25826.000000</td>\n",
              "    </tr>\n",
              "    <tr>\n",
              "      <th>std</th>\n",
              "      <td>9.820844</td>\n",
              "      <td>7671.144182</td>\n",
              "    </tr>\n",
              "    <tr>\n",
              "      <th>min</th>\n",
              "      <td>37.000000</td>\n",
              "      <td>12000.000000</td>\n",
              "    </tr>\n",
              "    <tr>\n",
              "      <th>25%</th>\n",
              "      <td>57.250000</td>\n",
              "      <td>20450.000000</td>\n",
              "    </tr>\n",
              "    <tr>\n",
              "      <th>50%</th>\n",
              "      <td>64.000000</td>\n",
              "      <td>25000.000000</td>\n",
              "    </tr>\n",
              "    <tr>\n",
              "      <th>75%</th>\n",
              "      <td>70.000000</td>\n",
              "      <td>30000.000000</td>\n",
              "    </tr>\n",
              "    <tr>\n",
              "      <th>max</th>\n",
              "      <td>83.000000</td>\n",
              "      <td>45000.000000</td>\n",
              "    </tr>\n",
              "  </tbody>\n",
              "</table>\n",
              "</div>\n",
              "      <button class=\"colab-df-convert\" onclick=\"convertToInteractive('df-ca25338c-7385-4d74-a739-af708d4a8445')\"\n",
              "              title=\"Convert this dataframe to an interactive table.\"\n",
              "              style=\"display:none;\">\n",
              "        \n",
              "  <svg xmlns=\"http://www.w3.org/2000/svg\" height=\"24px\"viewBox=\"0 0 24 24\"\n",
              "       width=\"24px\">\n",
              "    <path d=\"M0 0h24v24H0V0z\" fill=\"none\"/>\n",
              "    <path d=\"M18.56 5.44l.94 2.06.94-2.06 2.06-.94-2.06-.94-.94-2.06-.94 2.06-2.06.94zm-11 1L8.5 8.5l.94-2.06 2.06-.94-2.06-.94L8.5 2.5l-.94 2.06-2.06.94zm10 10l.94 2.06.94-2.06 2.06-.94-2.06-.94-.94-2.06-.94 2.06-2.06.94z\"/><path d=\"M17.41 7.96l-1.37-1.37c-.4-.4-.92-.59-1.43-.59-.52 0-1.04.2-1.43.59L10.3 9.45l-7.72 7.72c-.78.78-.78 2.05 0 2.83L4 21.41c.39.39.9.59 1.41.59.51 0 1.02-.2 1.41-.59l7.78-7.78 2.81-2.81c.8-.78.8-2.07 0-2.86zM5.41 20L4 18.59l7.72-7.72 1.47 1.35L5.41 20z\"/>\n",
              "  </svg>\n",
              "      </button>\n",
              "      \n",
              "  <style>\n",
              "    .colab-df-container {\n",
              "      display:flex;\n",
              "      flex-wrap:wrap;\n",
              "      gap: 12px;\n",
              "    }\n",
              "\n",
              "    .colab-df-convert {\n",
              "      background-color: #E8F0FE;\n",
              "      border: none;\n",
              "      border-radius: 50%;\n",
              "      cursor: pointer;\n",
              "      display: none;\n",
              "      fill: #1967D2;\n",
              "      height: 32px;\n",
              "      padding: 0 0 0 0;\n",
              "      width: 32px;\n",
              "    }\n",
              "\n",
              "    .colab-df-convert:hover {\n",
              "      background-color: #E2EBFA;\n",
              "      box-shadow: 0px 1px 2px rgba(60, 64, 67, 0.3), 0px 1px 3px 1px rgba(60, 64, 67, 0.15);\n",
              "      fill: #174EA6;\n",
              "    }\n",
              "\n",
              "    [theme=dark] .colab-df-convert {\n",
              "      background-color: #3B4455;\n",
              "      fill: #D2E3FC;\n",
              "    }\n",
              "\n",
              "    [theme=dark] .colab-df-convert:hover {\n",
              "      background-color: #434B5C;\n",
              "      box-shadow: 0px 1px 3px 1px rgba(0, 0, 0, 0.15);\n",
              "      filter: drop-shadow(0px 1px 2px rgba(0, 0, 0, 0.3));\n",
              "      fill: #FFFFFF;\n",
              "    }\n",
              "  </style>\n",
              "\n",
              "      <script>\n",
              "        const buttonEl =\n",
              "          document.querySelector('#df-ca25338c-7385-4d74-a739-af708d4a8445 button.colab-df-convert');\n",
              "        buttonEl.style.display =\n",
              "          google.colab.kernel.accessAllowed ? 'block' : 'none';\n",
              "\n",
              "        async function convertToInteractive(key) {\n",
              "          const element = document.querySelector('#df-ca25338c-7385-4d74-a739-af708d4a8445');\n",
              "          const dataTable =\n",
              "            await google.colab.kernel.invokeFunction('convertToInteractive',\n",
              "                                                     [key], {});\n",
              "          if (!dataTable) return;\n",
              "\n",
              "          const docLinkHtml = 'Like what you see? Visit the ' +\n",
              "            '<a target=\"_blank\" href=https://colab.research.google.com/notebooks/data_table.ipynb>data table notebook</a>'\n",
              "            + ' to learn more about interactive tables.';\n",
              "          element.innerHTML = '';\n",
              "          dataTable['output_type'] = 'display_data';\n",
              "          await google.colab.output.renderOutput(dataTable, element);\n",
              "          const docLink = document.createElement('div');\n",
              "          docLink.innerHTML = docLinkHtml;\n",
              "          element.appendChild(docLink);\n",
              "        }\n",
              "      </script>\n",
              "    </div>\n",
              "  </div>\n",
              "  "
            ]
          },
          "metadata": {},
          "execution_count": 11
        }
      ]
    },
    {
      "cell_type": "markdown",
      "source": [
        "### adding constant column"
      ],
      "metadata": {
        "id": "ktEP2jlD6zpe"
      }
    },
    {
      "cell_type": "code",
      "source": [
        "X = sm.add_constant(salary_df['Percentage'])"
      ],
      "metadata": {
        "colab": {
          "base_uri": "https://localhost:8080/"
        },
        "id": "I6Pc69WwUVZd",
        "outputId": "cf9c184b-9028-4f70-f106-136ceceb119f"
      },
      "execution_count": 12,
      "outputs": [
        {
          "output_type": "stream",
          "name": "stderr",
          "text": [
            "/usr/local/lib/python3.7/dist-packages/statsmodels/tsa/tsatools.py:117: FutureWarning: In a future version of pandas all arguments of concat except for the argument 'objs' will be keyword-only\n",
            "  x = pd.concat(x[::order], 1)\n"
          ]
        }
      ]
    },
    {
      "cell_type": "code",
      "source": [
        "X.head(5)"
      ],
      "metadata": {
        "colab": {
          "base_uri": "https://localhost:8080/",
          "height": 201
        },
        "id": "SOHJU9RxUtwp",
        "outputId": "e8f5b4af-3b84-446b-dac5-499b49d2d446"
      },
      "execution_count": 13,
      "outputs": [
        {
          "output_type": "execute_result",
          "data": {
            "text/plain": [
              "   const  Percentage\n",
              "0    1.0          62\n",
              "1    1.0          76\n",
              "2    1.0          72\n",
              "3    1.0          60\n",
              "4    1.0          61"
            ],
            "text/html": [
              "\n",
              "  <div id=\"df-e54c55c6-3f8e-4f03-83e5-624935ffe955\">\n",
              "    <div class=\"colab-df-container\">\n",
              "      <div>\n",
              "<style scoped>\n",
              "    .dataframe tbody tr th:only-of-type {\n",
              "        vertical-align: middle;\n",
              "    }\n",
              "\n",
              "    .dataframe tbody tr th {\n",
              "        vertical-align: top;\n",
              "    }\n",
              "\n",
              "    .dataframe thead th {\n",
              "        text-align: right;\n",
              "    }\n",
              "</style>\n",
              "<table border=\"1\" class=\"dataframe\">\n",
              "  <thead>\n",
              "    <tr style=\"text-align: right;\">\n",
              "      <th></th>\n",
              "      <th>const</th>\n",
              "      <th>Percentage</th>\n",
              "    </tr>\n",
              "  </thead>\n",
              "  <tbody>\n",
              "    <tr>\n",
              "      <th>0</th>\n",
              "      <td>1.0</td>\n",
              "      <td>62</td>\n",
              "    </tr>\n",
              "    <tr>\n",
              "      <th>1</th>\n",
              "      <td>1.0</td>\n",
              "      <td>76</td>\n",
              "    </tr>\n",
              "    <tr>\n",
              "      <th>2</th>\n",
              "      <td>1.0</td>\n",
              "      <td>72</td>\n",
              "    </tr>\n",
              "    <tr>\n",
              "      <th>3</th>\n",
              "      <td>1.0</td>\n",
              "      <td>60</td>\n",
              "    </tr>\n",
              "    <tr>\n",
              "      <th>4</th>\n",
              "      <td>1.0</td>\n",
              "      <td>61</td>\n",
              "    </tr>\n",
              "  </tbody>\n",
              "</table>\n",
              "</div>\n",
              "      <button class=\"colab-df-convert\" onclick=\"convertToInteractive('df-e54c55c6-3f8e-4f03-83e5-624935ffe955')\"\n",
              "              title=\"Convert this dataframe to an interactive table.\"\n",
              "              style=\"display:none;\">\n",
              "        \n",
              "  <svg xmlns=\"http://www.w3.org/2000/svg\" height=\"24px\"viewBox=\"0 0 24 24\"\n",
              "       width=\"24px\">\n",
              "    <path d=\"M0 0h24v24H0V0z\" fill=\"none\"/>\n",
              "    <path d=\"M18.56 5.44l.94 2.06.94-2.06 2.06-.94-2.06-.94-.94-2.06-.94 2.06-2.06.94zm-11 1L8.5 8.5l.94-2.06 2.06-.94-2.06-.94L8.5 2.5l-.94 2.06-2.06.94zm10 10l.94 2.06.94-2.06 2.06-.94-2.06-.94-.94-2.06-.94 2.06-2.06.94z\"/><path d=\"M17.41 7.96l-1.37-1.37c-.4-.4-.92-.59-1.43-.59-.52 0-1.04.2-1.43.59L10.3 9.45l-7.72 7.72c-.78.78-.78 2.05 0 2.83L4 21.41c.39.39.9.59 1.41.59.51 0 1.02-.2 1.41-.59l7.78-7.78 2.81-2.81c.8-.78.8-2.07 0-2.86zM5.41 20L4 18.59l7.72-7.72 1.47 1.35L5.41 20z\"/>\n",
              "  </svg>\n",
              "      </button>\n",
              "      \n",
              "  <style>\n",
              "    .colab-df-container {\n",
              "      display:flex;\n",
              "      flex-wrap:wrap;\n",
              "      gap: 12px;\n",
              "    }\n",
              "\n",
              "    .colab-df-convert {\n",
              "      background-color: #E8F0FE;\n",
              "      border: none;\n",
              "      border-radius: 50%;\n",
              "      cursor: pointer;\n",
              "      display: none;\n",
              "      fill: #1967D2;\n",
              "      height: 32px;\n",
              "      padding: 0 0 0 0;\n",
              "      width: 32px;\n",
              "    }\n",
              "\n",
              "    .colab-df-convert:hover {\n",
              "      background-color: #E2EBFA;\n",
              "      box-shadow: 0px 1px 2px rgba(60, 64, 67, 0.3), 0px 1px 3px 1px rgba(60, 64, 67, 0.15);\n",
              "      fill: #174EA6;\n",
              "    }\n",
              "\n",
              "    [theme=dark] .colab-df-convert {\n",
              "      background-color: #3B4455;\n",
              "      fill: #D2E3FC;\n",
              "    }\n",
              "\n",
              "    [theme=dark] .colab-df-convert:hover {\n",
              "      background-color: #434B5C;\n",
              "      box-shadow: 0px 1px 3px 1px rgba(0, 0, 0, 0.15);\n",
              "      filter: drop-shadow(0px 1px 2px rgba(0, 0, 0, 0.3));\n",
              "      fill: #FFFFFF;\n",
              "    }\n",
              "  </style>\n",
              "\n",
              "      <script>\n",
              "        const buttonEl =\n",
              "          document.querySelector('#df-e54c55c6-3f8e-4f03-83e5-624935ffe955 button.colab-df-convert');\n",
              "        buttonEl.style.display =\n",
              "          google.colab.kernel.accessAllowed ? 'block' : 'none';\n",
              "\n",
              "        async function convertToInteractive(key) {\n",
              "          const element = document.querySelector('#df-e54c55c6-3f8e-4f03-83e5-624935ffe955');\n",
              "          const dataTable =\n",
              "            await google.colab.kernel.invokeFunction('convertToInteractive',\n",
              "                                                     [key], {});\n",
              "          if (!dataTable) return;\n",
              "\n",
              "          const docLinkHtml = 'Like what you see? Visit the ' +\n",
              "            '<a target=\"_blank\" href=https://colab.research.google.com/notebooks/data_table.ipynb>data table notebook</a>'\n",
              "            + ' to learn more about interactive tables.';\n",
              "          element.innerHTML = '';\n",
              "          dataTable['output_type'] = 'display_data';\n",
              "          await google.colab.output.renderOutput(dataTable, element);\n",
              "          const docLink = document.createElement('div');\n",
              "          docLink.innerHTML = docLinkHtml;\n",
              "          element.appendChild(docLink);\n",
              "        }\n",
              "      </script>\n",
              "    </div>\n",
              "  </div>\n",
              "  "
            ]
          },
          "metadata": {},
          "execution_count": 13
        }
      ]
    },
    {
      "cell_type": "code",
      "source": [
        "Y = salary_df['Salary']"
      ],
      "metadata": {
        "id": "4zqsVEpoVHXa"
      },
      "execution_count": 14,
      "outputs": []
    },
    {
      "cell_type": "markdown",
      "source": [
        "### **test train split**"
      ],
      "metadata": {
        "id": "ak05k7M2w1VM"
      }
    },
    {
      "cell_type": "code",
      "source": [
        "train_X, test_X, train_Y, test_Y = train_test_split(X, Y, train_size =0.8, random_state = 100)"
      ],
      "metadata": {
        "id": "NnQaBUgBUzY0"
      },
      "execution_count": 15,
      "outputs": []
    },
    {
      "cell_type": "code",
      "source": [
        "print(train_X.shape)\n",
        "print(train_Y.shape)"
      ],
      "metadata": {
        "colab": {
          "base_uri": "https://localhost:8080/"
        },
        "id": "K9XnFTvfVSul",
        "outputId": "a2207bfc-2247-45db-9393-0f67583e56d8"
      },
      "execution_count": 16,
      "outputs": [
        {
          "output_type": "stream",
          "name": "stdout",
          "text": [
            "(40, 2)\n",
            "(40,)\n"
          ]
        }
      ]
    },
    {
      "cell_type": "markdown",
      "source": [
        "### **model - fitting - regression run using statsmodel**"
      ],
      "metadata": {
        "id": "4n4fNUMxw6j7"
      }
    },
    {
      "cell_type": "code",
      "source": [
        "salary_df_lm = sm.OLS(train_Y, train_X).fit()"
      ],
      "metadata": {
        "id": "GIRzl1sXVdes"
      },
      "execution_count": 17,
      "outputs": []
    },
    {
      "cell_type": "code",
      "source": [
        "print(salary_df_lm.params)"
      ],
      "metadata": {
        "colab": {
          "base_uri": "https://localhost:8080/"
        },
        "id": "_LNYex4TVbNT",
        "outputId": "f8967ede-ea38-4f7d-9656-0c345c01fbc5"
      },
      "execution_count": 18,
      "outputs": [
        {
          "output_type": "stream",
          "name": "stdout",
          "text": [
            "const         7908.461680\n",
            "Percentage     290.496499\n",
            "dtype: float64\n"
          ]
        }
      ]
    },
    {
      "cell_type": "code",
      "source": [
        "print(salary_df_lm.summary2())"
      ],
      "metadata": {
        "colab": {
          "base_uri": "https://localhost:8080/"
        },
        "id": "cr851GN6wG68",
        "outputId": "c6d71e2f-2ef3-443f-a426-b520e291b985"
      },
      "execution_count": 19,
      "outputs": [
        {
          "output_type": "stream",
          "name": "stdout",
          "text": [
            "                  Results: Ordinary least squares\n",
            "===================================================================\n",
            "Model:              OLS              Adj. R-squared:     0.139     \n",
            "Dependent Variable: Salary           AIC:                823.4053  \n",
            "Date:               2022-05-23 11:57 BIC:                826.7831  \n",
            "No. Observations:   40               Log-Likelihood:     -409.70   \n",
            "Df Model:           1                F-statistic:        7.313     \n",
            "Df Residuals:       38               Prob (F-statistic): 0.0102    \n",
            "R-squared:          0.161            Scale:              4.8572e+07\n",
            "-------------------------------------------------------------------\n",
            "              Coef.    Std.Err.   t    P>|t|    [0.025     0.975]  \n",
            "-------------------------------------------------------------------\n",
            "const       7908.4617 6965.5630 1.1354 0.2633 -6192.5835 22009.5068\n",
            "Percentage   290.4965  107.4244 2.7042 0.0102    73.0272   507.9658\n",
            "-------------------------------------------------------------------\n",
            "Omnibus:                1.077        Durbin-Watson:           2.370\n",
            "Prob(Omnibus):          0.584        Jarque-Bera (JB):        1.106\n",
            "Skew:                   0.326        Prob(JB):                0.575\n",
            "Kurtosis:               2.512        Condition No.:           410  \n",
            "===================================================================\n",
            "\n"
          ]
        }
      ]
    },
    {
      "cell_type": "markdown",
      "source": [
        "### accuracy is 16.1% which is less for the data model"
      ],
      "metadata": {
        "id": "mKO-5Kbx86tW"
      }
    },
    {
      "cell_type": "code",
      "source": [
        "summary_table = salary_df_lm.summary2()"
      ],
      "metadata": {
        "id": "qXi64oN3x5PE"
      },
      "execution_count": 20,
      "outputs": []
    },
    {
      "cell_type": "code",
      "source": [
        "LRresult = (salary_df_lm.summary2().tables[1])"
      ],
      "metadata": {
        "id": "O8PGPd9iw7dK"
      },
      "execution_count": 21,
      "outputs": []
    },
    {
      "cell_type": "markdown",
      "source": [
        "### null hypothesis test"
      ],
      "metadata": {
        "id": "RQkH2pvf67R4"
      }
    },
    {
      "cell_type": "code",
      "source": [
        "LRresult['P>|t|']['Percentage']>0.05"
      ],
      "metadata": {
        "colab": {
          "base_uri": "https://localhost:8080/"
        },
        "id": "FhNRZXhRx4t8",
        "outputId": "258443c9-724d-4b62-d7ef-b1e46fcb7be5"
      },
      "execution_count": 22,
      "outputs": [
        {
          "output_type": "execute_result",
          "data": {
            "text/plain": [
              "False"
            ]
          },
          "metadata": {},
          "execution_count": 22
        }
      ]
    },
    {
      "cell_type": "markdown",
      "source": [
        "### residual analysis"
      ],
      "metadata": {
        "id": "0_NMmFMZ7GPQ"
      }
    },
    {
      "cell_type": "code",
      "source": [
        "salary_df_lm_residual = salary_df_lm.resid"
      ],
      "metadata": {
        "id": "zmm8xJ-sBSGW"
      },
      "execution_count": 23,
      "outputs": []
    },
    {
      "cell_type": "code",
      "source": [
        "plt.figure(figsize=[15,7])\n",
        "probplot = sm.ProbPlot(salary_df_lm_residual)\n",
        "probplot.ppplot(line='45')\n",
        "plt.title(\"regression standardised residual plot\")\n",
        "\n",
        "plt.show()"
      ],
      "metadata": {
        "colab": {
          "base_uri": "https://localhost:8080/",
          "height": 311
        },
        "id": "G2jTqVNGBinq",
        "outputId": "35066614-6ca7-4817-f324-833d866965fe"
      },
      "execution_count": 24,
      "outputs": [
        {
          "output_type": "display_data",
          "data": {
            "text/plain": [
              "<Figure size 1080x504 with 0 Axes>"
            ]
          },
          "metadata": {}
        },
        {
          "output_type": "display_data",
          "data": {
            "text/plain": [
              "<Figure size 432x288 with 1 Axes>"
            ],
            "image/png": "[encoded data removed]"
          },
          "metadata": {
            "needs_background": "light"
          }
        }
      ]
    },
    {
      "cell_type": "code",
      "source": [
        "def get_standardized_vals(vals):\n",
        "  return ((vals-vals.mean())/vals.std())"
      ],
      "metadata": {
        "id": "j0-nbuDkCl-J"
      },
      "execution_count": 25,
      "outputs": []
    },
    {
      "cell_type": "code",
      "source": [
        "fit_vals = get_standardized_vals(salary_df_lm.fittedvalues)\n",
        "stad_vals = get_standardized_vals(salary_df_lm_residual)"
      ],
      "metadata": {
        "id": "ASVbHHTpBiuM"
      },
      "execution_count": 26,
      "outputs": []
    },
    {
      "cell_type": "code",
      "source": [
        "plt.figure(figsize=[15,7])\n",
        "plt.scatter(fit_vals, stad_vals)\n",
        "plt.title(\"residual plot\",size=14)\n",
        "\n",
        "plt.xlabel(\"predicted values\",size=14)\n",
        "plt.ylabel(\"standardized rsiduals\",size=14)\n",
        "plt.show()"
      ],
      "metadata": {
        "colab": {
          "base_uri": "https://localhost:8080/",
          "height": 463
        },
        "id": "hjL4m9BkDJ6j",
        "outputId": "2df8474f-5bf3-4208-d99d-f3252eeb0635"
      },
      "execution_count": 27,
      "outputs": [
        {
          "output_type": "display_data",
          "data": {
            "text/plain": [
              "<Figure size 1080x504 with 1 Axes>"
            ],
            "image/png": "[encoded data removed]"
          },
          "metadata": {
            "needs_background": "light"
          }
        }
      ]
    },
    {
      "cell_type": "markdown",
      "source": [
        "### outlier analysis - z score"
      ],
      "metadata": {
        "id": "2qme7rFD7P0s"
      }
    },
    {
      "cell_type": "code",
      "source": [
        "salary_df['zscore_salary'] = zscore(salary_df['Salary'])"
      ],
      "metadata": {
        "id": "12rHCd-EDkMZ"
      },
      "execution_count": 28,
      "outputs": []
    },
    {
      "cell_type": "code",
      "source": [
        "salary_df['zscore_salary'].head(5)"
      ],
      "metadata": {
        "colab": {
          "base_uri": "https://localhost:8080/"
        },
        "id": "HDqEZhyKD8mK",
        "outputId": "e3497520-7545-4cd5-bd89-1d5228a392a9"
      },
      "execution_count": 29,
      "outputs": [
        {
          "output_type": "execute_result",
          "data": {
            "text/plain": [
              "0    0.154595\n",
              "1   -0.767180\n",
              "2   -0.240452\n",
              "3   -0.108769\n",
              "4   -1.030544\n",
              "Name: zscore_salary, dtype: float64"
            ]
          },
          "metadata": {},
          "execution_count": 29
        }
      ]
    },
    {
      "cell_type": "markdown",
      "source": [
        "### none of the zscores are more than 3 or less than -3, there are no outliers\n"
      ],
      "metadata": {
        "id": "YeXo6Z7L7lxm"
      }
    },
    {
      "cell_type": "code",
      "source": [
        "salary_df[(salary_df['zscore_salary']>3) | (salary_df['zscore_salary'] <-3)]"
      ],
      "metadata": {
        "colab": {
          "base_uri": "https://localhost:8080/",
          "height": 49
        },
        "id": "EhOtwKdPD-0F",
        "outputId": "298d254b-c3a9-4188-e7a7-48ae690db015"
      },
      "execution_count": 30,
      "outputs": [
        {
          "output_type": "execute_result",
          "data": {
            "text/plain": [
              "Empty DataFrame\n",
              "Columns: [Percentage, Salary, zscore_salary]\n",
              "Index: []"
            ],
            "text/html": [
              "\n",
              "  <div id=\"df-eaee96eb-d2dc-42b1-8385-d8aa7a48daec\">\n",
              "    <div class=\"colab-df-container\">\n",
              "      <div>\n",
              "<style scoped>\n",
              "    .dataframe tbody tr th:only-of-type {\n",
              "        vertical-align: middle;\n",
              "    }\n",
              "\n",
              "    .dataframe tbody tr th {\n",
              "        vertical-align: top;\n",
              "    }\n",
              "\n",
              "    .dataframe thead th {\n",
              "        text-align: right;\n",
              "    }\n",
              "</style>\n",
              "<table border=\"1\" class=\"dataframe\">\n",
              "  <thead>\n",
              "    <tr style=\"text-align: right;\">\n",
              "      <th></th>\n",
              "      <th>Percentage</th>\n",
              "      <th>Salary</th>\n",
              "      <th>zscore_salary</th>\n",
              "    </tr>\n",
              "  </thead>\n",
              "  <tbody>\n",
              "  </tbody>\n",
              "</table>\n",
              "</div>\n",
              "      <button class=\"colab-df-convert\" onclick=\"convertToInteractive('df-eaee96eb-d2dc-42b1-8385-d8aa7a48daec')\"\n",
              "              title=\"Convert this dataframe to an interactive table.\"\n",
              "              style=\"display:none;\">\n",
              "        \n",
              "  <svg xmlns=\"http://www.w3.org/2000/svg\" height=\"24px\"viewBox=\"0 0 24 24\"\n",
              "       width=\"24px\">\n",
              "    <path d=\"M0 0h24v24H0V0z\" fill=\"none\"/>\n",
              "    <path d=\"M18.56 5.44l.94 2.06.94-2.06 2.06-.94-2.06-.94-.94-2.06-.94 2.06-2.06.94zm-11 1L8.5 8.5l.94-2.06 2.06-.94-2.06-.94L8.5 2.5l-.94 2.06-2.06.94zm10 10l.94 2.06.94-2.06 2.06-.94-2.06-.94-.94-2.06-.94 2.06-2.06.94z\"/><path d=\"M17.41 7.96l-1.37-1.37c-.4-.4-.92-.59-1.43-.59-.52 0-1.04.2-1.43.59L10.3 9.45l-7.72 7.72c-.78.78-.78 2.05 0 2.83L4 21.41c.39.39.9.59 1.41.59.51 0 1.02-.2 1.41-.59l7.78-7.78 2.81-2.81c.8-.78.8-2.07 0-2.86zM5.41 20L4 18.59l7.72-7.72 1.47 1.35L5.41 20z\"/>\n",
              "  </svg>\n",
              "      </button>\n",
              "      \n",
              "  <style>\n",
              "    .colab-df-container {\n",
              "      display:flex;\n",
              "      flex-wrap:wrap;\n",
              "      gap: 12px;\n",
              "    }\n",
              "\n",
              "    .colab-df-convert {\n",
              "      background-color: #E8F0FE;\n",
              "      border: none;\n",
              "      border-radius: 50%;\n",
              "      cursor: pointer;\n",
              "      display: none;\n",
              "      fill: #1967D2;\n",
              "      height: 32px;\n",
              "      padding: 0 0 0 0;\n",
              "      width: 32px;\n",
              "    }\n",
              "\n",
              "    .colab-df-convert:hover {\n",
              "      background-color: #E2EBFA;\n",
              "      box-shadow: 0px 1px 2px rgba(60, 64, 67, 0.3), 0px 1px 3px 1px rgba(60, 64, 67, 0.15);\n",
              "      fill: #174EA6;\n",
              "    }\n",
              "\n",
              "    [theme=dark] .colab-df-convert {\n",
              "      background-color: #3B4455;\n",
              "      fill: #D2E3FC;\n",
              "    }\n",
              "\n",
              "    [theme=dark] .colab-df-convert:hover {\n",
              "      background-color: #434B5C;\n",
              "      box-shadow: 0px 1px 3px 1px rgba(0, 0, 0, 0.15);\n",
              "      filter: drop-shadow(0px 1px 2px rgba(0, 0, 0, 0.3));\n",
              "      fill: #FFFFFF;\n",
              "    }\n",
              "  </style>\n",
              "\n",
              "      <script>\n",
              "        const buttonEl =\n",
              "          document.querySelector('#df-eaee96eb-d2dc-42b1-8385-d8aa7a48daec button.colab-df-convert');\n",
              "        buttonEl.style.display =\n",
              "          google.colab.kernel.accessAllowed ? 'block' : 'none';\n",
              "\n",
              "        async function convertToInteractive(key) {\n",
              "          const element = document.querySelector('#df-eaee96eb-d2dc-42b1-8385-d8aa7a48daec');\n",
              "          const dataTable =\n",
              "            await google.colab.kernel.invokeFunction('convertToInteractive',\n",
              "                                                     [key], {});\n",
              "          if (!dataTable) return;\n",
              "\n",
              "          const docLinkHtml = 'Like what you see? Visit the ' +\n",
              "            '<a target=\"_blank\" href=https://colab.research.google.com/notebooks/data_table.ipynb>data table notebook</a>'\n",
              "            + ' to learn more about interactive tables.';\n",
              "          element.innerHTML = '';\n",
              "          dataTable['output_type'] = 'display_data';\n",
              "          await google.colab.output.renderOutput(dataTable, element);\n",
              "          const docLink = document.createElement('div');\n",
              "          docLink.innerHTML = docLinkHtml;\n",
              "          element.appendChild(docLink);\n",
              "        }\n",
              "      </script>\n",
              "    </div>\n",
              "  </div>\n",
              "  "
            ]
          },
          "metadata": {},
          "execution_count": 30
        }
      ]
    },
    {
      "cell_type": "markdown",
      "source": [
        "### Cook's distance\n",
        "\n"
      ],
      "metadata": {
        "id": "HmZhFJxN7YCL"
      }
    },
    {
      "cell_type": "code",
      "source": [
        "salary_influence = salary_df_lm.get_influence()\n",
        "(c,p) = salary_influence.cooks_distance"
      ],
      "metadata": {
        "id": "4170T9k1aS6f"
      },
      "execution_count": 31,
      "outputs": []
    },
    {
      "cell_type": "code",
      "source": [
        "c,p"
      ],
      "metadata": {
        "colab": {
          "base_uri": "https://localhost:8080/"
        },
        "id": "OQDNJuJFae53",
        "outputId": "2cbc40ea-79dd-46f4-d46c-721939572b01"
      },
      "execution_count": 32,
      "outputs": [
        {
          "output_type": "execute_result",
          "data": {
            "text/plain": [
              "(array([3.29188702e-04, 1.69563086e-02, 9.75998761e-03, 8.37738240e-02,\n",
              "        2.44313121e-02, 4.68486761e-02, 4.51158039e-02, 4.69284889e-03,\n",
              "        3.58003073e-05, 5.43599331e-03, 3.07218394e-04, 1.41726947e-02,\n",
              "        4.34694631e-02, 2.38257269e-03, 1.09018882e-02, 2.42350097e-01,\n",
              "        6.84923322e-02, 1.72019964e-02, 6.95007626e-02, 1.35882051e-02,\n",
              "        1.07355535e-02, 6.09314326e-04, 1.86889574e-02, 3.73086983e-04,\n",
              "        3.03607611e-02, 1.41863618e-03, 2.67055105e-03, 9.80976537e-02,\n",
              "        1.71488124e-03, 2.35750789e-02, 1.04293748e-02, 2.36906425e-04,\n",
              "        5.04489978e-03, 2.18393947e-05, 1.04934172e-01, 1.68429018e-02,\n",
              "        1.95718030e-04, 3.60268109e-05, 3.19973673e-02, 1.50626926e-01]),\n",
              " array([0.99967087, 0.98319408, 0.99028997, 0.9198086 , 0.97588003,\n",
              "        0.95428681, 0.9559379 , 0.99531872, 0.9999642 , 0.99457953,\n",
              "        0.99969283, 0.98593247, 0.95750933, 0.99762041, 0.98916041,\n",
              "        0.78598506, 0.93391563, 0.98295276, 0.93297772, 0.98650849,\n",
              "        0.98932487, 0.99939088, 0.98149361, 0.99962699, 0.970119  ,\n",
              "        0.99858242, 0.9973332 , 0.90678919, 0.99828667, 0.97671492,\n",
              "        0.98962765, 0.99976312, 0.99496847, 0.99997816, 0.90064377,\n",
              "        0.98330548, 0.9998043 , 0.99996397, 0.9685352 , 0.86067958]))"
            ]
          },
          "metadata": {},
          "execution_count": 32
        }
      ]
    },
    {
      "cell_type": "code",
      "source": [
        "plt.stem(np.arange(len(train_X)), np.round(c,3), markerfmt=\",\")\n",
        "plt.title(\"cooks_distance\")\n",
        "\n",
        "plt.xlabel(\"Row Index\")\n",
        "plt.ylabel(\"cooks distance\")"
      ],
      "metadata": {
        "colab": {
          "base_uri": "https://localhost:8080/",
          "height": 364
        },
        "id": "UvSx2UxLaiqn",
        "outputId": "3ad4c63d-7192-4444-88ea-102dccfeff3b"
      },
      "execution_count": 33,
      "outputs": [
        {
          "output_type": "stream",
          "name": "stderr",
          "text": [
            "/usr/local/lib/python3.7/dist-packages/ipykernel_launcher.py:1: UserWarning: In Matplotlib 3.3 individual lines on a stem plot will be added as a LineCollection instead of individual lines. This significantly improves the performance of a stem plot. To remove this warning and switch to the new behaviour, set the \"use_line_collection\" keyword argument to True.\n",
            "  \"\"\"Entry point for launching an IPython kernel.\n"
          ]
        },
        {
          "output_type": "execute_result",
          "data": {
            "text/plain": [
              "Text(0, 0.5, 'cooks distance')"
            ]
          },
          "metadata": {},
          "execution_count": 33
        },
        {
          "output_type": "display_data",
          "data": {
            "text/plain": [
              "<Figure size 432x288 with 1 Axes>"
            ],
            "image/png": "[encoded data removed]"
          },
          "metadata": {
            "needs_background": "light"
          }
        }
      ]
    },
    {
      "cell_type": "code",
      "source": [
        "from statsmodels.graphics.regressionplots import influence_plot"
      ],
      "metadata": {
        "id": "hujdQX0Dbea0"
      },
      "execution_count": 34,
      "outputs": []
    },
    {
      "cell_type": "code",
      "source": [
        "fig, ax = plt.subplots(1,1,figsize = (8,6))\n",
        "influence_plot(salary_df_lm, ax=ax)"
      ],
      "metadata": {
        "colab": {
          "base_uri": "https://localhost:8080/",
          "height": 804
        },
        "id": "3cL_vlDSbEil",
        "outputId": "36fb6cdc-2463-4c80-d377-1d934dd2a166"
      },
      "execution_count": 35,
      "outputs": [
        {
          "output_type": "execute_result",
          "data": {
            "text/plain": [
              "<Figure size 576x432 with 1 Axes>"
            ],
            "image/png": "[encoded data removed]"
          },
          "metadata": {},
          "execution_count": 35
        },
        {
          "output_type": "display_data",
          "data": {
            "text/plain": [
              "<Figure size 576x432 with 1 Axes>"
            ],
            "image/png": "[encoded data removed]"
          },
          "metadata": {
            "needs_background": "light"
          }
        }
      ]
    },
    {
      "cell_type": "markdown",
      "source": [
        "### predictions"
      ],
      "metadata": {
        "id": "R5a732QX7117"
      }
    },
    {
      "cell_type": "code",
      "source": [
        "pred_y = salary_df_lm.predict(test_X)\n",
        "pred_y.shape"
      ],
      "metadata": {
        "colab": {
          "base_uri": "https://localhost:8080/"
        },
        "id": "klJB7mvMcXf-",
        "outputId": "f9e9bd50-5580-476e-88aa-32d60d9cae85"
      },
      "execution_count": 36,
      "outputs": [
        {
          "output_type": "execute_result",
          "data": {
            "text/plain": [
              "(10,)"
            ]
          },
          "metadata": {},
          "execution_count": 36
        }
      ]
    },
    {
      "cell_type": "code",
      "source": [
        "from sklearn.metrics import r2_score, mean_squared_error\n"
      ],
      "metadata": {
        "id": "djAaSSo7cs2Y"
      },
      "execution_count": 37,
      "outputs": []
    },
    {
      "cell_type": "code",
      "source": [
        "np.abs(r2_score(test_Y, pred_y))"
      ],
      "metadata": {
        "colab": {
          "base_uri": "https://localhost:8080/"
        },
        "id": "XV4Tbj6hc8-N",
        "outputId": "a3ec67fd-ba46-4d13-b398-ec89feb3a38d"
      },
      "execution_count": 38,
      "outputs": [
        {
          "output_type": "execute_result",
          "data": {
            "text/plain": [
              "0.05958777636306367"
            ]
          },
          "metadata": {},
          "execution_count": 38
        }
      ]
    },
    {
      "cell_type": "code",
      "source": [
        "np.sqrt(mean_squared_error(test_Y,pred_y))"
      ],
      "metadata": {
        "colab": {
          "base_uri": "https://localhost:8080/"
        },
        "id": "626N6dVgdHKO",
        "outputId": "8eed45fd-e155-4f86-cab9-a8eecb0e10ce"
      },
      "execution_count": 39,
      "outputs": [
        {
          "output_type": "execute_result",
          "data": {
            "text/plain": [
              "7904.541226192519"
            ]
          },
          "metadata": {},
          "execution_count": 39
        }
      ]
    },
    {
      "cell_type": "code",
      "source": [
        "pred_y"
      ],
      "metadata": {
        "colab": {
          "base_uri": "https://localhost:8080/"
        },
        "id": "zWkEy0NA8f0A",
        "outputId": "cd8955da-48cd-44c2-ff19-6f8639eef0a4"
      },
      "execution_count": 43,
      "outputs": [
        {
          "output_type": "execute_result",
          "data": {
            "text/plain": [
              "6     28243.216579\n",
              "36    23014.279605\n",
              "37    29986.195570\n",
              "28    25338.251593\n",
              "43    27662.223582\n",
              "49    25338.251593\n",
              "5     23885.769101\n",
              "33    27662.223582\n",
              "20    26209.741089\n",
              "42    24466.762098\n",
              "dtype: float64"
            ]
          },
          "metadata": {},
          "execution_count": 43
        }
      ]
    },
    {
      "cell_type": "code",
      "source": [
        "salary_df['predicted'] = pred_y"
      ],
      "metadata": {
        "id": "e7it9EmF8C0W"
      },
      "execution_count": 41,
      "outputs": []
    },
    {
      "cell_type": "code",
      "source": [
        "salary_df"
      ],
      "metadata": {
        "colab": {
          "base_uri": "https://localhost:8080/",
          "height": 1000
        },
        "id": "_tHvAJds8Gor",
        "outputId": "832aa8c5-5728-4f54-8249-ebf70ff02ed4"
      },
      "execution_count": 42,
      "outputs": [
        {
          "output_type": "execute_result",
          "data": {
            "text/plain": [
              "    Percentage  Salary  zscore_salary     predicted\n",
              "0           62   27000       0.154595           NaN\n",
              "1           76   20000      -0.767180           NaN\n",
              "2           72   24000      -0.240452           NaN\n",
              "3           60   25000      -0.108769           NaN\n",
              "4           61   18000      -1.030544           NaN\n",
              "5           55   30000       0.549641  23885.769101\n",
              "6           70   26000       0.022913  28243.216579\n",
              "7           68   23500      -0.306293           NaN\n",
              "8           82   42500       2.195668           NaN\n",
              "9           59   24000      -0.240452           NaN\n",
              "10          58   25000      -0.108769           NaN\n",
              "11          60   18000      -1.030544           NaN\n",
              "12          66   42800       2.235172           NaN\n",
              "13          83   45000       2.524873           NaN\n",
              "14          68   30000       0.549641           NaN\n",
              "15          37   24400      -0.187779           NaN\n",
              "16          79   25200      -0.082433           NaN\n",
              "17          68   28000       0.286277           NaN\n",
              "18          70   23100      -0.358965           NaN\n",
              "19          59   22400      -0.451143           NaN\n",
              "20          63   12000      -1.820637  26209.741089\n",
              "21          50   26000       0.022913           NaN\n",
              "22          64   25000      -0.108769           NaN\n",
              "23          50   18000      -1.030544           NaN\n",
              "24          74   21800      -0.530152           NaN\n",
              "25          58   36000       1.339734           NaN\n",
              "26          67   15000      -1.425591           NaN\n",
              "27          75   25000      -0.108769           NaN\n",
              "28          60   20000      -0.767180  25338.251593\n",
              "29          55   30000       0.549641           NaN\n",
              "30          78   33000       0.944688           NaN\n",
              "31          50   26500       0.088754           NaN\n",
              "32          56   34000       1.076370           NaN\n",
              "33          68   17700      -1.070049  27662.223582\n",
              "34          52   23600      -0.293124           NaN\n",
              "35          54   26500       0.088754           NaN\n",
              "36          52   20000      -0.767180  23014.279605\n",
              "37          76   39300       1.774285  29986.195570\n",
              "38          64   36000       1.339734           NaN\n",
              "39          74   30000       0.549641           NaN\n",
              "40          74   25000      -0.108769           NaN\n",
              "41          73   36000       1.339734           NaN\n",
              "42          57   18000      -1.030544  24466.762098\n",
              "43          68   18000      -1.030544  27662.223582\n",
              "44          69   30000       0.549641           NaN\n",
              "45          52   12000      -1.820637           NaN\n",
              "46          49   12000      -1.820637           NaN\n",
              "47          69   27000       0.154595           NaN\n",
              "48          66   24000      -0.240452           NaN\n",
              "49          60   30000       0.549641  25338.251593"
            ],
            "text/html": [
              "\n",
              "  <div id=\"df-20bbb225-a800-4f91-b993-a5ca67432dae\">\n",
              "    <div class=\"colab-df-container\">\n",
              "      <div>\n",
              "<style scoped>\n",
              "    .dataframe tbody tr th:only-of-type {\n",
              "        vertical-align: middle;\n",
              "    }\n",
              "\n",
              "    .dataframe tbody tr th {\n",
              "        vertical-align: top;\n",
              "    }\n",
              "\n",
              "    .dataframe thead th {\n",
              "        text-align: right;\n",
              "    }\n",
              "</style>\n",
              "<table border=\"1\" class=\"dataframe\">\n",
              "  <thead>\n",
              "    <tr style=\"text-align: right;\">\n",
              "      <th></th>\n",
              "      <th>Percentage</th>\n",
              "      <th>Salary</th>\n",
              "      <th>zscore_salary</th>\n",
              "      <th>predicted</th>\n",
              "    </tr>\n",
              "  </thead>\n",
              "  <tbody>\n",
              "    <tr>\n",
              "      <th>0</th>\n",
              "      <td>62</td>\n",
              "      <td>27000</td>\n",
              "      <td>0.154595</td>\n",
              "      <td>NaN</td>\n",
              "    </tr>\n",
              "    <tr>\n",
              "      <th>1</th>\n",
              "      <td>76</td>\n",
              "      <td>20000</td>\n",
              "      <td>-0.767180</td>\n",
              "      <td>NaN</td>\n",
              "    </tr>\n",
              "    <tr>\n",
              "      <th>2</th>\n",
              "      <td>72</td>\n",
              "      <td>24000</td>\n",
              "      <td>-0.240452</td>\n",
              "      <td>NaN</td>\n",
              "    </tr>\n",
              "    <tr>\n",
              "      <th>3</th>\n",
              "      <td>60</td>\n",
              "      <td>25000</td>\n",
              "      <td>-0.108769</td>\n",
              "      <td>NaN</td>\n",
              "    </tr>\n",
              "    <tr>\n",
              "      <th>4</th>\n",
              "      <td>61</td>\n",
              "      <td>18000</td>\n",
              "      <td>-1.030544</td>\n",
              "      <td>NaN</td>\n",
              "    </tr>\n",
              "    <tr>\n",
              "      <th>5</th>\n",
              "      <td>55</td>\n",
              "      <td>30000</td>\n",
              "      <td>0.549641</td>\n",
              "      <td>23885.769101</td>\n",
              "    </tr>\n",
              "    <tr>\n",
              "      <th>6</th>\n",
              "      <td>70</td>\n",
              "      <td>26000</td>\n",
              "      <td>0.022913</td>\n",
              "      <td>28243.216579</td>\n",
              "    </tr>\n",
              "    <tr>\n",
              "      <th>7</th>\n",
              "      <td>68</td>\n",
              "      <td>23500</td>\n",
              "      <td>-0.306293</td>\n",
              "      <td>NaN</td>\n",
              "    </tr>\n",
              "    <tr>\n",
              "      <th>8</th>\n",
              "      <td>82</td>\n",
              "      <td>42500</td>\n",
              "      <td>2.195668</td>\n",
              "      <td>NaN</td>\n",
              "    </tr>\n",
              "    <tr>\n",
              "      <th>9</th>\n",
              "      <td>59</td>\n",
              "      <td>24000</td>\n",
              "      <td>-0.240452</td>\n",
              "      <td>NaN</td>\n",
              "    </tr>\n",
              "    <tr>\n",
              "      <th>10</th>\n",
              "      <td>58</td>\n",
              "      <td>25000</td>\n",
              "      <td>-0.108769</td>\n",
              "      <td>NaN</td>\n",
              "    </tr>\n",
              "    <tr>\n",
              "      <th>11</th>\n",
              "      <td>60</td>\n",
              "      <td>18000</td>\n",
              "      <td>-1.030544</td>\n",
              "      <td>NaN</td>\n",
              "    </tr>\n",
              "    <tr>\n",
              "      <th>12</th>\n",
              "      <td>66</td>\n",
              "      <td>42800</td>\n",
              "      <td>2.235172</td>\n",
              "      <td>NaN</td>\n",
              "    </tr>\n",
              "    <tr>\n",
              "      <th>13</th>\n",
              "      <td>83</td>\n",
              "      <td>45000</td>\n",
              "      <td>2.524873</td>\n",
              "      <td>NaN</td>\n",
              "    </tr>\n",
              "    <tr>\n",
              "      <th>14</th>\n",
              "      <td>68</td>\n",
              "      <td>30000</td>\n",
              "      <td>0.549641</td>\n",
              "      <td>NaN</td>\n",
              "    </tr>\n",
              "    <tr>\n",
              "      <th>15</th>\n",
              "      <td>37</td>\n",
              "      <td>24400</td>\n",
              "      <td>-0.187779</td>\n",
              "      <td>NaN</td>\n",
              "    </tr>\n",
              "    <tr>\n",
              "      <th>16</th>\n",
              "      <td>79</td>\n",
              "      <td>25200</td>\n",
              "      <td>-0.082433</td>\n",
              "      <td>NaN</td>\n",
              "    </tr>\n",
              "    <tr>\n",
              "      <th>17</th>\n",
              "      <td>68</td>\n",
              "      <td>28000</td>\n",
              "      <td>0.286277</td>\n",
              "      <td>NaN</td>\n",
              "    </tr>\n",
              "    <tr>\n",
              "      <th>18</th>\n",
              "      <td>70</td>\n",
              "      <td>23100</td>\n",
              "      <td>-0.358965</td>\n",
              "      <td>NaN</td>\n",
              "    </tr>\n",
              "    <tr>\n",
              "      <th>19</th>\n",
              "      <td>59</td>\n",
              "      <td>22400</td>\n",
              "      <td>-0.451143</td>\n",
              "      <td>NaN</td>\n",
              "    </tr>\n",
              "    <tr>\n",
              "      <th>20</th>\n",
              "      <td>63</td>\n",
              "      <td>12000</td>\n",
              "      <td>-1.820637</td>\n",
              "      <td>26209.741089</td>\n",
              "    </tr>\n",
              "    <tr>\n",
              "      <th>21</th>\n",
              "      <td>50</td>\n",
              "      <td>26000</td>\n",
              "      <td>0.022913</td>\n",
              "      <td>NaN</td>\n",
              "    </tr>\n",
              "    <tr>\n",
              "      <th>22</th>\n",
              "      <td>64</td>\n",
              "      <td>25000</td>\n",
              "      <td>-0.108769</td>\n",
              "      <td>NaN</td>\n",
              "    </tr>\n",
              "    <tr>\n",
              "      <th>23</th>\n",
              "      <td>50</td>\n",
              "      <td>18000</td>\n",
              "      <td>-1.030544</td>\n",
              "      <td>NaN</td>\n",
              "    </tr>\n",
              "    <tr>\n",
              "      <th>24</th>\n",
              "      <td>74</td>\n",
              "      <td>21800</td>\n",
              "      <td>-0.530152</td>\n",
              "      <td>NaN</td>\n",
              "    </tr>\n",
              "    <tr>\n",
              "      <th>25</th>\n",
              "      <td>58</td>\n",
              "      <td>36000</td>\n",
              "      <td>1.339734</td>\n",
              "      <td>NaN</td>\n",
              "    </tr>\n",
              "    <tr>\n",
              "      <th>26</th>\n",
              "      <td>67</td>\n",
              "      <td>15000</td>\n",
              "      <td>-1.425591</td>\n",
              "      <td>NaN</td>\n",
              "    </tr>\n",
              "    <tr>\n",
              "      <th>27</th>\n",
              "      <td>75</td>\n",
              "      <td>25000</td>\n",
              "      <td>-0.108769</td>\n",
              "      <td>NaN</td>\n",
              "    </tr>\n",
              "    <tr>\n",
              "      <th>28</th>\n",
              "      <td>60</td>\n",
              "      <td>20000</td>\n",
              "      <td>-0.767180</td>\n",
              "      <td>25338.251593</td>\n",
              "    </tr>\n",
              "    <tr>\n",
              "      <th>29</th>\n",
              "      <td>55</td>\n",
              "      <td>30000</td>\n",
              "      <td>0.549641</td>\n",
              "      <td>NaN</td>\n",
              "    </tr>\n",
              "    <tr>\n",
              "      <th>30</th>\n",
              "      <td>78</td>\n",
              "      <td>33000</td>\n",
              "      <td>0.944688</td>\n",
              "      <td>NaN</td>\n",
              "    </tr>\n",
              "    <tr>\n",
              "      <th>31</th>\n",
              "      <td>50</td>\n",
              "      <td>26500</td>\n",
              "      <td>0.088754</td>\n",
              "      <td>NaN</td>\n",
              "    </tr>\n",
              "    <tr>\n",
              "      <th>32</th>\n",
              "      <td>56</td>\n",
              "      <td>34000</td>\n",
              "      <td>1.076370</td>\n",
              "      <td>NaN</td>\n",
              "    </tr>\n",
              "    <tr>\n",
              "      <th>33</th>\n",
              "      <td>68</td>\n",
              "      <td>17700</td>\n",
              "      <td>-1.070049</td>\n",
              "      <td>27662.223582</td>\n",
              "    </tr>\n",
              "    <tr>\n",
              "      <th>34</th>\n",
              "      <td>52</td>\n",
              "      <td>23600</td>\n",
              "      <td>-0.293124</td>\n",
              "      <td>NaN</td>\n",
              "    </tr>\n",
              "    <tr>\n",
              "      <th>35</th>\n",
              "      <td>54</td>\n",
              "      <td>26500</td>\n",
              "      <td>0.088754</td>\n",
              "      <td>NaN</td>\n",
              "    </tr>\n",
              "    <tr>\n",
              "      <th>36</th>\n",
              "      <td>52</td>\n",
              "      <td>20000</td>\n",
              "      <td>-0.767180</td>\n",
              "      <td>23014.279605</td>\n",
              "    </tr>\n",
              "    <tr>\n",
              "      <th>37</th>\n",
              "      <td>76</td>\n",
              "      <td>39300</td>\n",
              "      <td>1.774285</td>\n",
              "      <td>29986.195570</td>\n",
              "    </tr>\n",
              "    <tr>\n",
              "      <th>38</th>\n",
              "      <td>64</td>\n",
              "      <td>36000</td>\n",
              "      <td>1.339734</td>\n",
              "      <td>NaN</td>\n",
              "    </tr>\n",
              "    <tr>\n",
              "      <th>39</th>\n",
              "      <td>74</td>\n",
              "      <td>30000</td>\n",
              "      <td>0.549641</td>\n",
              "      <td>NaN</td>\n",
              "    </tr>\n",
              "    <tr>\n",
              "      <th>40</th>\n",
              "      <td>74</td>\n",
              "      <td>25000</td>\n",
              "      <td>-0.108769</td>\n",
              "      <td>NaN</td>\n",
              "    </tr>\n",
              "    <tr>\n",
              "      <th>41</th>\n",
              "      <td>73</td>\n",
              "      <td>36000</td>\n",
              "      <td>1.339734</td>\n",
              "      <td>NaN</td>\n",
              "    </tr>\n",
              "    <tr>\n",
              "      <th>42</th>\n",
              "      <td>57</td>\n",
              "      <td>18000</td>\n",
              "      <td>-1.030544</td>\n",
              "      <td>24466.762098</td>\n",
              "    </tr>\n",
              "    <tr>\n",
              "      <th>43</th>\n",
              "      <td>68</td>\n",
              "      <td>18000</td>\n",
              "      <td>-1.030544</td>\n",
              "      <td>27662.223582</td>\n",
              "    </tr>\n",
              "    <tr>\n",
              "      <th>44</th>\n",
              "      <td>69</td>\n",
              "      <td>30000</td>\n",
              "      <td>0.549641</td>\n",
              "      <td>NaN</td>\n",
              "    </tr>\n",
              "    <tr>\n",
              "      <th>45</th>\n",
              "      <td>52</td>\n",
              "      <td>12000</td>\n",
              "      <td>-1.820637</td>\n",
              "      <td>NaN</td>\n",
              "    </tr>\n",
              "    <tr>\n",
              "      <th>46</th>\n",
              "      <td>49</td>\n",
              "      <td>12000</td>\n",
              "      <td>-1.820637</td>\n",
              "      <td>NaN</td>\n",
              "    </tr>\n",
              "    <tr>\n",
              "      <th>47</th>\n",
              "      <td>69</td>\n",
              "      <td>27000</td>\n",
              "      <td>0.154595</td>\n",
              "      <td>NaN</td>\n",
              "    </tr>\n",
              "    <tr>\n",
              "      <th>48</th>\n",
              "      <td>66</td>\n",
              "      <td>24000</td>\n",
              "      <td>-0.240452</td>\n",
              "      <td>NaN</td>\n",
              "    </tr>\n",
              "    <tr>\n",
              "      <th>49</th>\n",
              "      <td>60</td>\n",
              "      <td>30000</td>\n",
              "      <td>0.549641</td>\n",
              "      <td>25338.251593</td>\n",
              "    </tr>\n",
              "  </tbody>\n",
              "</table>\n",
              "</div>\n",
              "      <button class=\"colab-df-convert\" onclick=\"convertToInteractive('df-20bbb225-a800-4f91-b993-a5ca67432dae')\"\n",
              "              title=\"Convert this dataframe to an interactive table.\"\n",
              "              style=\"display:none;\">\n",
              "        \n",
              "  <svg xmlns=\"http://www.w3.org/2000/svg\" height=\"24px\"viewBox=\"0 0 24 24\"\n",
              "       width=\"24px\">\n",
              "    <path d=\"M0 0h24v24H0V0z\" fill=\"none\"/>\n",
              "    <path d=\"M18.56 5.44l.94 2.06.94-2.06 2.06-.94-2.06-.94-.94-2.06-.94 2.06-2.06.94zm-11 1L8.5 8.5l.94-2.06 2.06-.94-2.06-.94L8.5 2.5l-.94 2.06-2.06.94zm10 10l.94 2.06.94-2.06 2.06-.94-2.06-.94-.94-2.06-.94 2.06-2.06.94z\"/><path d=\"M17.41 7.96l-1.37-1.37c-.4-.4-.92-.59-1.43-.59-.52 0-1.04.2-1.43.59L10.3 9.45l-7.72 7.72c-.78.78-.78 2.05 0 2.83L4 21.41c.39.39.9.59 1.41.59.51 0 1.02-.2 1.41-.59l7.78-7.78 2.81-2.81c.8-.78.8-2.07 0-2.86zM5.41 20L4 18.59l7.72-7.72 1.47 1.35L5.41 20z\"/>\n",
              "  </svg>\n",
              "      </button>\n",
              "      \n",
              "  <style>\n",
              "    .colab-df-container {\n",
              "      display:flex;\n",
              "      flex-wrap:wrap;\n",
              "      gap: 12px;\n",
              "    }\n",
              "\n",
              "    .colab-df-convert {\n",
              "      background-color: #E8F0FE;\n",
              "      border: none;\n",
              "      border-radius: 50%;\n",
              "      cursor: pointer;\n",
              "      display: none;\n",
              "      fill: #1967D2;\n",
              "      height: 32px;\n",
              "      padding: 0 0 0 0;\n",
              "      width: 32px;\n",
              "    }\n",
              "\n",
              "    .colab-df-convert:hover {\n",
              "      background-color: #E2EBFA;\n",
              "      box-shadow: 0px 1px 2px rgba(60, 64, 67, 0.3), 0px 1px 3px 1px rgba(60, 64, 67, 0.15);\n",
              "      fill: #174EA6;\n",
              "    }\n",
              "\n",
              "    [theme=dark] .colab-df-convert {\n",
              "      background-color: #3B4455;\n",
              "      fill: #D2E3FC;\n",
              "    }\n",
              "\n",
              "    [theme=dark] .colab-df-convert:hover {\n",
              "      background-color: #434B5C;\n",
              "      box-shadow: 0px 1px 3px 1px rgba(0, 0, 0, 0.15);\n",
              "      filter: drop-shadow(0px 1px 2px rgba(0, 0, 0, 0.3));\n",
              "      fill: #FFFFFF;\n",
              "    }\n",
              "  </style>\n",
              "\n",
              "      <script>\n",
              "        const buttonEl =\n",
              "          document.querySelector('#df-20bbb225-a800-4f91-b993-a5ca67432dae button.colab-df-convert');\n",
              "        buttonEl.style.display =\n",
              "          google.colab.kernel.accessAllowed ? 'block' : 'none';\n",
              "\n",
              "        async function convertToInteractive(key) {\n",
              "          const element = document.querySelector('#df-20bbb225-a800-4f91-b993-a5ca67432dae');\n",
              "          const dataTable =\n",
              "            await google.colab.kernel.invokeFunction('convertToInteractive',\n",
              "                                                     [key], {});\n",
              "          if (!dataTable) return;\n",
              "\n",
              "          const docLinkHtml = 'Like what you see? Visit the ' +\n",
              "            '<a target=\"_blank\" href=https://colab.research.google.com/notebooks/data_table.ipynb>data table notebook</a>'\n",
              "            + ' to learn more about interactive tables.';\n",
              "          element.innerHTML = '';\n",
              "          dataTable['output_type'] = 'display_data';\n",
              "          await google.colab.output.renderOutput(dataTable, element);\n",
              "          const docLink = document.createElement('div');\n",
              "          docLink.innerHTML = docLinkHtml;\n",
              "          element.appendChild(docLink);\n",
              "        }\n",
              "      </script>\n",
              "    </div>\n",
              "  </div>\n",
              "  "
            ]
          },
          "metadata": {},
          "execution_count": 42
        }
      ]
    }
  ]
}