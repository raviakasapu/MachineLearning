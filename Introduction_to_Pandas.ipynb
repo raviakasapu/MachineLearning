{
  "nbformat": 4,
  "nbformat_minor": 0,
  "metadata": {
    "colab": {
      "name": "Introduction to Pandas.ipynb",
      "provenance": [],
      "collapsed_sections": [],
      "authorship_tag": "ABX9TyPNkqggsynLKhzvDPONerfQ",
      "include_colab_link": true
    },
    "kernelspec": {
      "name": "python3",
      "display_name": "Python 3"
    },
    "language_info": {
      "name": "python"
    }
  },
  "cells": [
    {
      "cell_type": "markdown",
      "metadata": {
        "id": "view-in-github",
        "colab_type": "text"
      },
      "source": [
        "<a href=\"https://colab.research.google.com/github/raviakasapu/MachineLearning/blob/main/Introduction_to_Pandas.ipynb\" target=\"_parent\"><img src=\"https://colab.research.google.com/assets/colab-badge.svg\" alt=\"Open In Colab\"/></a>"
      ]
    },
    {
      "cell_type": "markdown",
      "source": [
        "# **Introduction to Pandas and advanced data science **"
      ],
      "metadata": {
        "id": "afQEFnXamE-E"
      }
    },
    {
      "cell_type": "markdown",
      "source": [
        "[Import Pandas Series](#scrollTo=qJovi707nY1k&line=3&uniqifier=1)"
      ],
      "metadata": {
        "id": "TlpdHYkxsEye"
      }
    },
    {
      "cell_type": "markdown",
      "source": [
        "[Working with *apply* function in *pandas Series* ](#scrollTo=ZrhmN_fAqsi2&line=1&uniqifier=1)"
      ],
      "metadata": {
        "id": "HfNVC407sfXz"
      }
    },
    {
      "cell_type": "markdown",
      "source": [
        "[Working with dictionaies](#scrollTo=NxCNX_t6u1zk&line=4&uniqifier=1)"
      ],
      "metadata": {
        "id": "9CiqxaDjvWtn"
      }
    },
    {
      "cell_type": "markdown",
      "source": [
        "# Pandas Series"
      ],
      "metadata": {
        "id": "MtY7hf_AoQRc"
      }
    },
    {
      "cell_type": "code",
      "source": [
        "import pandas as pd\n",
        "s = pd.Series([1,2,3,4,5])\n",
        "s"
      ],
      "metadata": {
        "colab": {
          "base_uri": "https://localhost:8080/"
        },
        "id": "qJovi707nY1k",
        "outputId": "1f187971-0f68-4fd1-9100-496a92cb96e9"
      },
      "execution_count": 3,
      "outputs": [
        {
          "output_type": "execute_result",
          "data": {
            "text/plain": [
              "0    1\n",
              "1    2\n",
              "2    3\n",
              "3    4\n",
              "4    5\n",
              "dtype: int64"
            ]
          },
          "metadata": {},
          "execution_count": 3
        }
      ]
    },
    {
      "cell_type": "code",
      "source": [
        "print(type(s))\n",
        "print(s.index)\n",
        "print(s.values)"
      ],
      "metadata": {
        "colab": {
          "base_uri": "https://localhost:8080/"
        },
        "id": "0QeG7stxoi_-",
        "outputId": "4f867fb5-2527-4d17-c795-d5382dd37f55"
      },
      "execution_count": 5,
      "outputs": [
        {
          "output_type": "stream",
          "name": "stdout",
          "text": [
            "<class 'pandas.core.series.Series'>\n",
            "RangeIndex(start=0, stop=5, step=1)\n",
            "[1 2 3 4 5]\n"
          ]
        }
      ]
    },
    {
      "cell_type": "code",
      "source": [
        "fruits = ['apples','bananas','cherries','pears']"
      ],
      "metadata": {
        "id": "eCccBmNHp5wz"
      },
      "execution_count": 6,
      "outputs": []
    },
    {
      "cell_type": "code",
      "source": [
        "s1 = pd.Series([20,10,30,40] , index = fruits)\n",
        "s2 = pd.Series([8,8,8,8], index = fruits)\n",
        "print(s1+s2)"
      ],
      "metadata": {
        "colab": {
          "base_uri": "https://localhost:8080/"
        },
        "id": "G7zI05ENp_iP",
        "outputId": "00c41628-af09-45eb-f822-3f114f3d1f01"
      },
      "execution_count": 8,
      "outputs": [
        {
          "output_type": "stream",
          "name": "stdout",
          "text": [
            "apples      28\n",
            "bananas     18\n",
            "cherries    38\n",
            "pears       48\n",
            "dtype: int64\n"
          ]
        }
      ]
    },
    {
      "cell_type": "code",
      "source": [
        "print(s1['apples'])"
      ],
      "metadata": {
        "colab": {
          "base_uri": "https://localhost:8080/"
        },
        "id": "s4Luaiqrqun4",
        "outputId": "0d2f72bb-ad60-4671-85b1-b4f63168b6f6"
      },
      "execution_count": 9,
      "outputs": [
        {
          "output_type": "stream",
          "name": "stdout",
          "text": [
            "20\n"
          ]
        }
      ]
    },
    {
      "cell_type": "markdown",
      "source": [
        "# working with Apply function in Pandas Series"
      ],
      "metadata": {
        "id": "LwZ4X3emr4BM"
      }
    },
    {
      "cell_type": "code",
      "source": [
        "import numpy as np\n",
        "s"
      ],
      "metadata": {
        "colab": {
          "base_uri": "https://localhost:8080/"
        },
        "id": "ZrhmN_fAqsi2",
        "outputId": "3556040a-8029-42f1-ac9f-e5daed48055b"
      },
      "execution_count": 14,
      "outputs": [
        {
          "output_type": "execute_result",
          "data": {
            "text/plain": [
              "0    1\n",
              "1    2\n",
              "2    3\n",
              "3    4\n",
              "4    5\n",
              "dtype: int64"
            ]
          },
          "metadata": {},
          "execution_count": 14
        }
      ]
    },
    {
      "cell_type": "code",
      "source": [
        "s.apply(np.sqrt)"
      ],
      "metadata": {
        "colab": {
          "base_uri": "https://localhost:8080/"
        },
        "id": "HJ7A53xjrsWk",
        "outputId": "f05c4ab6-a10d-405b-8007-544bc6607510"
      },
      "execution_count": 11,
      "outputs": [
        {
          "output_type": "execute_result",
          "data": {
            "text/plain": [
              "0    1.000000\n",
              "1    1.414214\n",
              "2    1.732051\n",
              "3    2.000000\n",
              "4    2.236068\n",
              "dtype: float64"
            ]
          },
          "metadata": {},
          "execution_count": 11
        }
      ]
    },
    {
      "cell_type": "code",
      "source": [
        "s.apply(lambda x:x+25 if(x>2) else x+10)"
      ],
      "metadata": {
        "colab": {
          "base_uri": "https://localhost:8080/"
        },
        "id": "A9QZ3CqZrteZ",
        "outputId": "d8ce7acf-d702-4b6c-bd71-d9851d17969d"
      },
      "execution_count": 19,
      "outputs": [
        {
          "output_type": "execute_result",
          "data": {
            "text/plain": [
              "0    11\n",
              "1    12\n",
              "2    28\n",
              "3    29\n",
              "4    30\n",
              "dtype: int64"
            ]
          },
          "metadata": {},
          "execution_count": 19
        }
      ]
    },
    {
      "cell_type": "markdown",
      "source": [
        "# working with series object using dictionaries"
      ],
      "metadata": {
        "id": "dCATxyBKvD8S"
      }
    },
    {
      "cell_type": "code",
      "source": [
        "cities = {\"London\":    8615246, \n",
        "          \"Berlin\":    3562166, \n",
        "          \"Madrid\":    3165235, \n",
        "          \"Rome\":      2874038, \n",
        "          \"Paris\":     2273305, \n",
        "          \"Vienna\":    1805681, \n",
        "          \"Bucharest\": 1803425, \n",
        "          \"Hamburg\":   1760433,\n",
        "          \"Budapest\":  1754000,\n",
        "          \"Warsaw\":    1740119,\n",
        "          \"Barcelona\": 1602386,\n",
        "          \"Munich\":    1493900,\n",
        "          \"Milan\":     1350680}\n",
        "\n",
        "city_series = pd.Series(cities)\n",
        "print(city_series)"
      ],
      "metadata": {
        "colab": {
          "base_uri": "https://localhost:8080/"
        },
        "id": "NxCNX_t6u1zk",
        "outputId": "6ee89464-ca8f-4f3c-e26c-8e4d5946f623"
      },
      "execution_count": 20,
      "outputs": [
        {
          "output_type": "stream",
          "name": "stdout",
          "text": [
            "London       8615246\n",
            "Berlin       3562166\n",
            "Madrid       3165235\n",
            "Rome         2874038\n",
            "Paris        2273305\n",
            "Vienna       1805681\n",
            "Bucharest    1803425\n",
            "Hamburg      1760433\n",
            "Budapest     1754000\n",
            "Warsaw       1740119\n",
            "Barcelona    1602386\n",
            "Munich       1493900\n",
            "Milan        1350680\n",
            "dtype: int64\n"
          ]
        }
      ]
    },
    {
      "cell_type": "markdown",
      "source": [
        "ceate a Data Frame using series"
      ],
      "metadata": {
        "id": "ZN7STd_O8ohp"
      }
    },
    {
      "cell_type": "code",
      "source": [
        "city_df = pd.DataFrame(city_series, columns = ['population'])\n",
        "city_df.index"
      ],
      "metadata": {
        "colab": {
          "base_uri": "https://localhost:8080/"
        },
        "id": "cnse3rT88RUk",
        "outputId": "3a6975e9-1289-4061-8d2f-5cbb187f7504"
      },
      "execution_count": 26,
      "outputs": [
        {
          "output_type": "execute_result",
          "data": {
            "text/plain": [
              "Index(['London', 'Berlin', 'Madrid', 'Rome', 'Paris', 'Vienna', 'Bucharest',\n",
              "       'Hamburg', 'Budapest', 'Warsaw', 'Barcelona', 'Munich', 'Milan'],\n",
              "      dtype='object')"
            ]
          },
          "metadata": {},
          "execution_count": 26
        }
      ]
    },
    {
      "cell_type": "code",
      "source": [
        "city_df.isnull()"
      ],
      "metadata": {
        "colab": {
          "base_uri": "https://localhost:8080/",
          "height": 452
        },
        "id": "Z6EcWd-C9Rn2",
        "outputId": "d1ed21ea-4c54-42a4-e97b-d63f8d753d9e"
      },
      "execution_count": 28,
      "outputs": [
        {
          "output_type": "execute_result",
          "data": {
            "text/html": [
              "\n",
              "  <div id=\"df-0b933a7d-b2f4-4dd0-9d7c-ef4ecd7d69ec\">\n",
              "    <div class=\"colab-df-container\">\n",
              "      <div>\n",
              "<style scoped>\n",
              "    .dataframe tbody tr th:only-of-type {\n",
              "        vertical-align: middle;\n",
              "    }\n",
              "\n",
              "    .dataframe tbody tr th {\n",
              "        vertical-align: top;\n",
              "    }\n",
              "\n",
              "    .dataframe thead th {\n",
              "        text-align: right;\n",
              "    }\n",
              "</style>\n",
              "<table border=\"1\" class=\"dataframe\">\n",
              "  <thead>\n",
              "    <tr style=\"text-align: right;\">\n",
              "      <th></th>\n",
              "      <th>population</th>\n",
              "    </tr>\n",
              "  </thead>\n",
              "  <tbody>\n",
              "    <tr>\n",
              "      <th>London</th>\n",
              "      <td>False</td>\n",
              "    </tr>\n",
              "    <tr>\n",
              "      <th>Berlin</th>\n",
              "      <td>False</td>\n",
              "    </tr>\n",
              "    <tr>\n",
              "      <th>Madrid</th>\n",
              "      <td>False</td>\n",
              "    </tr>\n",
              "    <tr>\n",
              "      <th>Rome</th>\n",
              "      <td>False</td>\n",
              "    </tr>\n",
              "    <tr>\n",
              "      <th>Paris</th>\n",
              "      <td>False</td>\n",
              "    </tr>\n",
              "    <tr>\n",
              "      <th>Vienna</th>\n",
              "      <td>False</td>\n",
              "    </tr>\n",
              "    <tr>\n",
              "      <th>Bucharest</th>\n",
              "      <td>False</td>\n",
              "    </tr>\n",
              "    <tr>\n",
              "      <th>Hamburg</th>\n",
              "      <td>False</td>\n",
              "    </tr>\n",
              "    <tr>\n",
              "      <th>Budapest</th>\n",
              "      <td>False</td>\n",
              "    </tr>\n",
              "    <tr>\n",
              "      <th>Warsaw</th>\n",
              "      <td>False</td>\n",
              "    </tr>\n",
              "    <tr>\n",
              "      <th>Barcelona</th>\n",
              "      <td>False</td>\n",
              "    </tr>\n",
              "    <tr>\n",
              "      <th>Munich</th>\n",
              "      <td>False</td>\n",
              "    </tr>\n",
              "    <tr>\n",
              "      <th>Milan</th>\n",
              "      <td>False</td>\n",
              "    </tr>\n",
              "  </tbody>\n",
              "</table>\n",
              "</div>\n",
              "      <button class=\"colab-df-convert\" onclick=\"convertToInteractive('df-0b933a7d-b2f4-4dd0-9d7c-ef4ecd7d69ec')\"\n",
              "              title=\"Convert this dataframe to an interactive table.\"\n",
              "              style=\"display:none;\">\n",
              "        \n",
              "  <svg xmlns=\"http://www.w3.org/2000/svg\" height=\"24px\"viewBox=\"0 0 24 24\"\n",
              "       width=\"24px\">\n",
              "    <path d=\"M0 0h24v24H0V0z\" fill=\"none\"/>\n",
              "    <path d=\"M18.56 5.44l.94 2.06.94-2.06 2.06-.94-2.06-.94-.94-2.06-.94 2.06-2.06.94zm-11 1L8.5 8.5l.94-2.06 2.06-.94-2.06-.94L8.5 2.5l-.94 2.06-2.06.94zm10 10l.94 2.06.94-2.06 2.06-.94-2.06-.94-.94-2.06-.94 2.06-2.06.94z\"/><path d=\"M17.41 7.96l-1.37-1.37c-.4-.4-.92-.59-1.43-.59-.52 0-1.04.2-1.43.59L10.3 9.45l-7.72 7.72c-.78.78-.78 2.05 0 2.83L4 21.41c.39.39.9.59 1.41.59.51 0 1.02-.2 1.41-.59l7.78-7.78 2.81-2.81c.8-.78.8-2.07 0-2.86zM5.41 20L4 18.59l7.72-7.72 1.47 1.35L5.41 20z\"/>\n",
              "  </svg>\n",
              "      </button>\n",
              "      \n",
              "  <style>\n",
              "    .colab-df-container {\n",
              "      display:flex;\n",
              "      flex-wrap:wrap;\n",
              "      gap: 12px;\n",
              "    }\n",
              "\n",
              "    .colab-df-convert {\n",
              "      background-color: #E8F0FE;\n",
              "      border: none;\n",
              "      border-radius: 50%;\n",
              "      cursor: pointer;\n",
              "      display: none;\n",
              "      fill: #1967D2;\n",
              "      height: 32px;\n",
              "      padding: 0 0 0 0;\n",
              "      width: 32px;\n",
              "    }\n",
              "\n",
              "    .colab-df-convert:hover {\n",
              "      background-color: #E2EBFA;\n",
              "      box-shadow: 0px 1px 2px rgba(60, 64, 67, 0.3), 0px 1px 3px 1px rgba(60, 64, 67, 0.15);\n",
              "      fill: #174EA6;\n",
              "    }\n",
              "\n",
              "    [theme=dark] .colab-df-convert {\n",
              "      background-color: #3B4455;\n",
              "      fill: #D2E3FC;\n",
              "    }\n",
              "\n",
              "    [theme=dark] .colab-df-convert:hover {\n",
              "      background-color: #434B5C;\n",
              "      box-shadow: 0px 1px 3px 1px rgba(0, 0, 0, 0.15);\n",
              "      filter: drop-shadow(0px 1px 2px rgba(0, 0, 0, 0.3));\n",
              "      fill: #FFFFFF;\n",
              "    }\n",
              "  </style>\n",
              "\n",
              "      <script>\n",
              "        const buttonEl =\n",
              "          document.querySelector('#df-0b933a7d-b2f4-4dd0-9d7c-ef4ecd7d69ec button.colab-df-convert');\n",
              "        buttonEl.style.display =\n",
              "          google.colab.kernel.accessAllowed ? 'block' : 'none';\n",
              "\n",
              "        async function convertToInteractive(key) {\n",
              "          const element = document.querySelector('#df-0b933a7d-b2f4-4dd0-9d7c-ef4ecd7d69ec');\n",
              "          const dataTable =\n",
              "            await google.colab.kernel.invokeFunction('convertToInteractive',\n",
              "                                                     [key], {});\n",
              "          if (!dataTable) return;\n",
              "\n",
              "          const docLinkHtml = 'Like what you see? Visit the ' +\n",
              "            '<a target=\"_blank\" href=https://colab.research.google.com/notebooks/data_table.ipynb>data table notebook</a>'\n",
              "            + ' to learn more about interactive tables.';\n",
              "          element.innerHTML = '';\n",
              "          dataTable['output_type'] = 'display_data';\n",
              "          await google.colab.output.renderOutput(dataTable, element);\n",
              "          const docLink = document.createElement('div');\n",
              "          docLink.innerHTML = docLinkHtml;\n",
              "          element.appendChild(docLink);\n",
              "        }\n",
              "      </script>\n",
              "    </div>\n",
              "  </div>\n",
              "  "
            ],
            "text/plain": [
              "           population\n",
              "London          False\n",
              "Berlin          False\n",
              "Madrid          False\n",
              "Rome            False\n",
              "Paris           False\n",
              "Vienna          False\n",
              "Bucharest       False\n",
              "Hamburg         False\n",
              "Budapest        False\n",
              "Warsaw          False\n",
              "Barcelona       False\n",
              "Munich          False\n",
              "Milan           False"
            ]
          },
          "metadata": {},
          "execution_count": 28
        }
      ]
    },
    {
      "cell_type": "code",
      "source": [
        "city_index_new = ['London', 'Berlin', 'Madrid','Delhi', 'Rome', 'Paris', 'Vienna', 'Bucharest',\n",
        "       'Hamburg', 'Budapest', 'Warsaw','Tokyo', 'Barcelona', 'Munich', 'Milan'] "
      ],
      "metadata": {
        "id": "6P2_PCg99b0g"
      },
      "execution_count": 33,
      "outputs": []
    },
    {
      "cell_type": "code",
      "source": [
        "city_df = pd.DataFrame(city_series, columns = ['population'], index = city_index_new)\n",
        "city_df"
      ],
      "metadata": {
        "colab": {
          "base_uri": "https://localhost:8080/",
          "height": 514
        },
        "id": "4P3mnmaXvDb7",
        "outputId": "0b3fd3a2-8948-4670-829e-d4f2330f1c43"
      },
      "execution_count": 62,
      "outputs": [
        {
          "output_type": "execute_result",
          "data": {
            "text/html": [
              "\n",
              "  <div id=\"df-e8404559-3952-4f1c-9ea8-2bcb51e8f3eb\">\n",
              "    <div class=\"colab-df-container\">\n",
              "      <div>\n",
              "<style scoped>\n",
              "    .dataframe tbody tr th:only-of-type {\n",
              "        vertical-align: middle;\n",
              "    }\n",
              "\n",
              "    .dataframe tbody tr th {\n",
              "        vertical-align: top;\n",
              "    }\n",
              "\n",
              "    .dataframe thead th {\n",
              "        text-align: right;\n",
              "    }\n",
              "</style>\n",
              "<table border=\"1\" class=\"dataframe\">\n",
              "  <thead>\n",
              "    <tr style=\"text-align: right;\">\n",
              "      <th></th>\n",
              "      <th>population</th>\n",
              "    </tr>\n",
              "  </thead>\n",
              "  <tbody>\n",
              "    <tr>\n",
              "      <th>London</th>\n",
              "      <td>8615246.0</td>\n",
              "    </tr>\n",
              "    <tr>\n",
              "      <th>Berlin</th>\n",
              "      <td>3562166.0</td>\n",
              "    </tr>\n",
              "    <tr>\n",
              "      <th>Madrid</th>\n",
              "      <td>3165235.0</td>\n",
              "    </tr>\n",
              "    <tr>\n",
              "      <th>Delhi</th>\n",
              "      <td>NaN</td>\n",
              "    </tr>\n",
              "    <tr>\n",
              "      <th>Rome</th>\n",
              "      <td>2874038.0</td>\n",
              "    </tr>\n",
              "    <tr>\n",
              "      <th>Paris</th>\n",
              "      <td>2273305.0</td>\n",
              "    </tr>\n",
              "    <tr>\n",
              "      <th>Vienna</th>\n",
              "      <td>1805681.0</td>\n",
              "    </tr>\n",
              "    <tr>\n",
              "      <th>Bucharest</th>\n",
              "      <td>1803425.0</td>\n",
              "    </tr>\n",
              "    <tr>\n",
              "      <th>Hamburg</th>\n",
              "      <td>1760433.0</td>\n",
              "    </tr>\n",
              "    <tr>\n",
              "      <th>Budapest</th>\n",
              "      <td>1754000.0</td>\n",
              "    </tr>\n",
              "    <tr>\n",
              "      <th>Warsaw</th>\n",
              "      <td>1740119.0</td>\n",
              "    </tr>\n",
              "    <tr>\n",
              "      <th>Tokyo</th>\n",
              "      <td>NaN</td>\n",
              "    </tr>\n",
              "    <tr>\n",
              "      <th>Barcelona</th>\n",
              "      <td>1602386.0</td>\n",
              "    </tr>\n",
              "    <tr>\n",
              "      <th>Munich</th>\n",
              "      <td>1493900.0</td>\n",
              "    </tr>\n",
              "    <tr>\n",
              "      <th>Milan</th>\n",
              "      <td>1350680.0</td>\n",
              "    </tr>\n",
              "  </tbody>\n",
              "</table>\n",
              "</div>\n",
              "      <button class=\"colab-df-convert\" onclick=\"convertToInteractive('df-e8404559-3952-4f1c-9ea8-2bcb51e8f3eb')\"\n",
              "              title=\"Convert this dataframe to an interactive table.\"\n",
              "              style=\"display:none;\">\n",
              "        \n",
              "  <svg xmlns=\"http://www.w3.org/2000/svg\" height=\"24px\"viewBox=\"0 0 24 24\"\n",
              "       width=\"24px\">\n",
              "    <path d=\"M0 0h24v24H0V0z\" fill=\"none\"/>\n",
              "    <path d=\"M18.56 5.44l.94 2.06.94-2.06 2.06-.94-2.06-.94-.94-2.06-.94 2.06-2.06.94zm-11 1L8.5 8.5l.94-2.06 2.06-.94-2.06-.94L8.5 2.5l-.94 2.06-2.06.94zm10 10l.94 2.06.94-2.06 2.06-.94-2.06-.94-.94-2.06-.94 2.06-2.06.94z\"/><path d=\"M17.41 7.96l-1.37-1.37c-.4-.4-.92-.59-1.43-.59-.52 0-1.04.2-1.43.59L10.3 9.45l-7.72 7.72c-.78.78-.78 2.05 0 2.83L4 21.41c.39.39.9.59 1.41.59.51 0 1.02-.2 1.41-.59l7.78-7.78 2.81-2.81c.8-.78.8-2.07 0-2.86zM5.41 20L4 18.59l7.72-7.72 1.47 1.35L5.41 20z\"/>\n",
              "  </svg>\n",
              "      </button>\n",
              "      \n",
              "  <style>\n",
              "    .colab-df-container {\n",
              "      display:flex;\n",
              "      flex-wrap:wrap;\n",
              "      gap: 12px;\n",
              "    }\n",
              "\n",
              "    .colab-df-convert {\n",
              "      background-color: #E8F0FE;\n",
              "      border: none;\n",
              "      border-radius: 50%;\n",
              "      cursor: pointer;\n",
              "      display: none;\n",
              "      fill: #1967D2;\n",
              "      height: 32px;\n",
              "      padding: 0 0 0 0;\n",
              "      width: 32px;\n",
              "    }\n",
              "\n",
              "    .colab-df-convert:hover {\n",
              "      background-color: #E2EBFA;\n",
              "      box-shadow: 0px 1px 2px rgba(60, 64, 67, 0.3), 0px 1px 3px 1px rgba(60, 64, 67, 0.15);\n",
              "      fill: #174EA6;\n",
              "    }\n",
              "\n",
              "    [theme=dark] .colab-df-convert {\n",
              "      background-color: #3B4455;\n",
              "      fill: #D2E3FC;\n",
              "    }\n",
              "\n",
              "    [theme=dark] .colab-df-convert:hover {\n",
              "      background-color: #434B5C;\n",
              "      box-shadow: 0px 1px 3px 1px rgba(0, 0, 0, 0.15);\n",
              "      filter: drop-shadow(0px 1px 2px rgba(0, 0, 0, 0.3));\n",
              "      fill: #FFFFFF;\n",
              "    }\n",
              "  </style>\n",
              "\n",
              "      <script>\n",
              "        const buttonEl =\n",
              "          document.querySelector('#df-e8404559-3952-4f1c-9ea8-2bcb51e8f3eb button.colab-df-convert');\n",
              "        buttonEl.style.display =\n",
              "          google.colab.kernel.accessAllowed ? 'block' : 'none';\n",
              "\n",
              "        async function convertToInteractive(key) {\n",
              "          const element = document.querySelector('#df-e8404559-3952-4f1c-9ea8-2bcb51e8f3eb');\n",
              "          const dataTable =\n",
              "            await google.colab.kernel.invokeFunction('convertToInteractive',\n",
              "                                                     [key], {});\n",
              "          if (!dataTable) return;\n",
              "\n",
              "          const docLinkHtml = 'Like what you see? Visit the ' +\n",
              "            '<a target=\"_blank\" href=https://colab.research.google.com/notebooks/data_table.ipynb>data table notebook</a>'\n",
              "            + ' to learn more about interactive tables.';\n",
              "          element.innerHTML = '';\n",
              "          dataTable['output_type'] = 'display_data';\n",
              "          await google.colab.output.renderOutput(dataTable, element);\n",
              "          const docLink = document.createElement('div');\n",
              "          docLink.innerHTML = docLinkHtml;\n",
              "          element.appendChild(docLink);\n",
              "        }\n",
              "      </script>\n",
              "    </div>\n",
              "  </div>\n",
              "  "
            ],
            "text/plain": [
              "           population\n",
              "London      8615246.0\n",
              "Berlin      3562166.0\n",
              "Madrid      3165235.0\n",
              "Delhi             NaN\n",
              "Rome        2874038.0\n",
              "Paris       2273305.0\n",
              "Vienna      1805681.0\n",
              "Bucharest   1803425.0\n",
              "Hamburg     1760433.0\n",
              "Budapest    1754000.0\n",
              "Warsaw      1740119.0\n",
              "Tokyo             NaN\n",
              "Barcelona   1602386.0\n",
              "Munich      1493900.0\n",
              "Milan       1350680.0"
            ]
          },
          "metadata": {},
          "execution_count": 62
        }
      ]
    },
    {
      "cell_type": "code",
      "source": [
        "city_df['population'].isnull()"
      ],
      "metadata": {
        "colab": {
          "base_uri": "https://localhost:8080/"
        },
        "id": "AMj7-uJs9ygb",
        "outputId": "5995af40-3643-432f-a252-92ceac0995a8"
      },
      "execution_count": 37,
      "outputs": [
        {
          "output_type": "execute_result",
          "data": {
            "text/plain": [
              "London       False\n",
              "Berlin       False\n",
              "Madrid       False\n",
              "Delhi         True\n",
              "Rome         False\n",
              "Paris        False\n",
              "Vienna       False\n",
              "Bucharest    False\n",
              "Hamburg      False\n",
              "Budapest     False\n",
              "Warsaw       False\n",
              "Tokyo         True\n",
              "Barcelona    False\n",
              "Munich       False\n",
              "Milan        False\n",
              "Name: population, dtype: bool"
            ]
          },
          "metadata": {},
          "execution_count": 37
        }
      ]
    },
    {
      "cell_type": "code",
      "source": [
        "city_df['population'].dropna()"
      ],
      "metadata": {
        "colab": {
          "base_uri": "https://localhost:8080/"
        },
        "id": "ATh1ti-q-fws",
        "outputId": "6b0a9c08-6396-4c88-a51f-26cc573272a0"
      },
      "execution_count": 38,
      "outputs": [
        {
          "output_type": "execute_result",
          "data": {
            "text/plain": [
              "London       8615246.0\n",
              "Berlin       3562166.0\n",
              "Madrid       3165235.0\n",
              "Rome         2874038.0\n",
              "Paris        2273305.0\n",
              "Vienna       1805681.0\n",
              "Bucharest    1803425.0\n",
              "Hamburg      1760433.0\n",
              "Budapest     1754000.0\n",
              "Warsaw       1740119.0\n",
              "Barcelona    1602386.0\n",
              "Munich       1493900.0\n",
              "Milan        1350680.0\n",
              "Name: population, dtype: float64"
            ]
          },
          "metadata": {},
          "execution_count": 38
        }
      ]
    },
    {
      "cell_type": "code",
      "source": [
        "city_df['population'].fillna(method='ffill')"
      ],
      "metadata": {
        "colab": {
          "base_uri": "https://localhost:8080/"
        },
        "id": "HHlXrdKk-pR6",
        "outputId": "8706f6c5-39c7-44d6-8dc1-2abcf9138a98"
      },
      "execution_count": 47,
      "outputs": [
        {
          "output_type": "execute_result",
          "data": {
            "text/plain": [
              "London       8615246.0\n",
              "Berlin       3562166.0\n",
              "Madrid       3165235.0\n",
              "Delhi        3165235.0\n",
              "Rome         2874038.0\n",
              "Paris        2273305.0\n",
              "Vienna       1805681.0\n",
              "Bucharest    1803425.0\n",
              "Hamburg      1760433.0\n",
              "Budapest     1754000.0\n",
              "Warsaw       1740119.0\n",
              "Tokyo        1740119.0\n",
              "Barcelona    1602386.0\n",
              "Munich       1493900.0\n",
              "Milan        1350680.0\n",
              "Name: population, dtype: float64"
            ]
          },
          "metadata": {},
          "execution_count": 47
        }
      ]
    },
    {
      "cell_type": "code",
      "source": [
        "cities_new = {\"name\": [\"London\", \"Berlin\", \"Madrid\", \"Rome\", \n",
        "                   \"Paris\", \"Vienna\", \"Bucharest\", \"Hamburg\", \n",
        "                   \"Budapest\", \"Warsaw\", \"Barcelona\", \n",
        "                   \"Munich\", \"Milan\"],\n",
        "          \"population\": [8615246, 3562166, 3165235, 2874038,\n",
        "                         2273305, 1805681, 1803425, 1760433,\n",
        "                         1754000, 1740119, 1602386, 1493900,\n",
        "                         1350680],\n",
        "          \"country\": [\"England\", \"Germany\", \"Spain\", \"Italy\",\n",
        "                      \"France\", \"Austria\", \"Romania\", \n",
        "                      \"Germany\", \"Hungary\", \"Poland\", \"Spain\",\n",
        "                      \"Germany\", \"Italy\"]}"
      ],
      "metadata": {
        "id": "C4Jgpxgbvffz"
      },
      "execution_count": 64,
      "outputs": []
    },
    {
      "cell_type": "code",
      "source": [
        "city_frame = pd.DataFrame(cities_new, columns=['name','population'], index=cities_new['country'])\n",
        "city_frame"
      ],
      "metadata": {
        "colab": {
          "base_uri": "https://localhost:8080/",
          "height": 452
        },
        "id": "dF_dlCuhvlgO",
        "outputId": "d1075ab3-bc93-4d83-9137-6727612d0ad5"
      },
      "execution_count": 75,
      "outputs": [
        {
          "output_type": "execute_result",
          "data": {
            "text/html": [
              "\n",
              "  <div id=\"df-825a6b0b-0392-4539-81f0-6a12b345ef0a\">\n",
              "    <div class=\"colab-df-container\">\n",
              "      <div>\n",
              "<style scoped>\n",
              "    .dataframe tbody tr th:only-of-type {\n",
              "        vertical-align: middle;\n",
              "    }\n",
              "\n",
              "    .dataframe tbody tr th {\n",
              "        vertical-align: top;\n",
              "    }\n",
              "\n",
              "    .dataframe thead th {\n",
              "        text-align: right;\n",
              "    }\n",
              "</style>\n",
              "<table border=\"1\" class=\"dataframe\">\n",
              "  <thead>\n",
              "    <tr style=\"text-align: right;\">\n",
              "      <th></th>\n",
              "      <th>name</th>\n",
              "      <th>population</th>\n",
              "    </tr>\n",
              "  </thead>\n",
              "  <tbody>\n",
              "    <tr>\n",
              "      <th>England</th>\n",
              "      <td>London</td>\n",
              "      <td>8615246</td>\n",
              "    </tr>\n",
              "    <tr>\n",
              "      <th>Germany</th>\n",
              "      <td>Berlin</td>\n",
              "      <td>3562166</td>\n",
              "    </tr>\n",
              "    <tr>\n",
              "      <th>Spain</th>\n",
              "      <td>Madrid</td>\n",
              "      <td>3165235</td>\n",
              "    </tr>\n",
              "    <tr>\n",
              "      <th>Italy</th>\n",
              "      <td>Rome</td>\n",
              "      <td>2874038</td>\n",
              "    </tr>\n",
              "    <tr>\n",
              "      <th>France</th>\n",
              "      <td>Paris</td>\n",
              "      <td>2273305</td>\n",
              "    </tr>\n",
              "    <tr>\n",
              "      <th>Austria</th>\n",
              "      <td>Vienna</td>\n",
              "      <td>1805681</td>\n",
              "    </tr>\n",
              "    <tr>\n",
              "      <th>Romania</th>\n",
              "      <td>Bucharest</td>\n",
              "      <td>1803425</td>\n",
              "    </tr>\n",
              "    <tr>\n",
              "      <th>Germany</th>\n",
              "      <td>Hamburg</td>\n",
              "      <td>1760433</td>\n",
              "    </tr>\n",
              "    <tr>\n",
              "      <th>Hungary</th>\n",
              "      <td>Budapest</td>\n",
              "      <td>1754000</td>\n",
              "    </tr>\n",
              "    <tr>\n",
              "      <th>Poland</th>\n",
              "      <td>Warsaw</td>\n",
              "      <td>1740119</td>\n",
              "    </tr>\n",
              "    <tr>\n",
              "      <th>Spain</th>\n",
              "      <td>Barcelona</td>\n",
              "      <td>1602386</td>\n",
              "    </tr>\n",
              "    <tr>\n",
              "      <th>Germany</th>\n",
              "      <td>Munich</td>\n",
              "      <td>1493900</td>\n",
              "    </tr>\n",
              "    <tr>\n",
              "      <th>Italy</th>\n",
              "      <td>Milan</td>\n",
              "      <td>1350680</td>\n",
              "    </tr>\n",
              "  </tbody>\n",
              "</table>\n",
              "</div>\n",
              "      <button class=\"colab-df-convert\" onclick=\"convertToInteractive('df-825a6b0b-0392-4539-81f0-6a12b345ef0a')\"\n",
              "              title=\"Convert this dataframe to an interactive table.\"\n",
              "              style=\"display:none;\">\n",
              "        \n",
              "  <svg xmlns=\"http://www.w3.org/2000/svg\" height=\"24px\"viewBox=\"0 0 24 24\"\n",
              "       width=\"24px\">\n",
              "    <path d=\"M0 0h24v24H0V0z\" fill=\"none\"/>\n",
              "    <path d=\"M18.56 5.44l.94 2.06.94-2.06 2.06-.94-2.06-.94-.94-2.06-.94 2.06-2.06.94zm-11 1L8.5 8.5l.94-2.06 2.06-.94-2.06-.94L8.5 2.5l-.94 2.06-2.06.94zm10 10l.94 2.06.94-2.06 2.06-.94-2.06-.94-.94-2.06-.94 2.06-2.06.94z\"/><path d=\"M17.41 7.96l-1.37-1.37c-.4-.4-.92-.59-1.43-.59-.52 0-1.04.2-1.43.59L10.3 9.45l-7.72 7.72c-.78.78-.78 2.05 0 2.83L4 21.41c.39.39.9.59 1.41.59.51 0 1.02-.2 1.41-.59l7.78-7.78 2.81-2.81c.8-.78.8-2.07 0-2.86zM5.41 20L4 18.59l7.72-7.72 1.47 1.35L5.41 20z\"/>\n",
              "  </svg>\n",
              "      </button>\n",
              "      \n",
              "  <style>\n",
              "    .colab-df-container {\n",
              "      display:flex;\n",
              "      flex-wrap:wrap;\n",
              "      gap: 12px;\n",
              "    }\n",
              "\n",
              "    .colab-df-convert {\n",
              "      background-color: #E8F0FE;\n",
              "      border: none;\n",
              "      border-radius: 50%;\n",
              "      cursor: pointer;\n",
              "      display: none;\n",
              "      fill: #1967D2;\n",
              "      height: 32px;\n",
              "      padding: 0 0 0 0;\n",
              "      width: 32px;\n",
              "    }\n",
              "\n",
              "    .colab-df-convert:hover {\n",
              "      background-color: #E2EBFA;\n",
              "      box-shadow: 0px 1px 2px rgba(60, 64, 67, 0.3), 0px 1px 3px 1px rgba(60, 64, 67, 0.15);\n",
              "      fill: #174EA6;\n",
              "    }\n",
              "\n",
              "    [theme=dark] .colab-df-convert {\n",
              "      background-color: #3B4455;\n",
              "      fill: #D2E3FC;\n",
              "    }\n",
              "\n",
              "    [theme=dark] .colab-df-convert:hover {\n",
              "      background-color: #434B5C;\n",
              "      box-shadow: 0px 1px 3px 1px rgba(0, 0, 0, 0.15);\n",
              "      filter: drop-shadow(0px 1px 2px rgba(0, 0, 0, 0.3));\n",
              "      fill: #FFFFFF;\n",
              "    }\n",
              "  </style>\n",
              "\n",
              "      <script>\n",
              "        const buttonEl =\n",
              "          document.querySelector('#df-825a6b0b-0392-4539-81f0-6a12b345ef0a button.colab-df-convert');\n",
              "        buttonEl.style.display =\n",
              "          google.colab.kernel.accessAllowed ? 'block' : 'none';\n",
              "\n",
              "        async function convertToInteractive(key) {\n",
              "          const element = document.querySelector('#df-825a6b0b-0392-4539-81f0-6a12b345ef0a');\n",
              "          const dataTable =\n",
              "            await google.colab.kernel.invokeFunction('convertToInteractive',\n",
              "                                                     [key], {});\n",
              "          if (!dataTable) return;\n",
              "\n",
              "          const docLinkHtml = 'Like what you see? Visit the ' +\n",
              "            '<a target=\"_blank\" href=https://colab.research.google.com/notebooks/data_table.ipynb>data table notebook</a>'\n",
              "            + ' to learn more about interactive tables.';\n",
              "          element.innerHTML = '';\n",
              "          dataTable['output_type'] = 'display_data';\n",
              "          await google.colab.output.renderOutput(dataTable, element);\n",
              "          const docLink = document.createElement('div');\n",
              "          docLink.innerHTML = docLinkHtml;\n",
              "          element.appendChild(docLink);\n",
              "        }\n",
              "      </script>\n",
              "    </div>\n",
              "  </div>\n",
              "  "
            ],
            "text/plain": [
              "              name  population\n",
              "England     London     8615246\n",
              "Germany     Berlin     3562166\n",
              "Spain       Madrid     3165235\n",
              "Italy         Rome     2874038\n",
              "France       Paris     2273305\n",
              "Austria     Vienna     1805681\n",
              "Romania  Bucharest     1803425\n",
              "Germany    Hamburg     1760433\n",
              "Hungary   Budapest     1754000\n",
              "Poland      Warsaw     1740119\n",
              "Spain    Barcelona     1602386\n",
              "Germany     Munich     1493900\n",
              "Italy        Milan     1350680"
            ]
          },
          "metadata": {},
          "execution_count": 75
        }
      ]
    }
  ]
}