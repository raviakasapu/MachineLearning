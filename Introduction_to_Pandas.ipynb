{
  "nbformat": 4,
  "nbformat_minor": 0,
  "metadata": {
    "colab": {
      "name": "Introduction to Pandas.ipynb",
      "provenance": [],
      "collapsed_sections": [],
      "authorship_tag": "ABX9TyNlLOpIpPY84NYsAXGwE2wS",
      "include_colab_link": true
    },
    "kernelspec": {
      "name": "python3",
      "display_name": "Python 3"
    },
    "language_info": {
      "name": "python"
    }
  },
  "cells": [
    {
      "cell_type": "markdown",
      "metadata": {
        "id": "view-in-github",
        "colab_type": "text"
      },
      "source": [
        "<a href=\"https://colab.research.google.com/github/raviakasapu/MachineLearning/blob/main/Introduction_to_Pandas.ipynb\" target=\"_parent\"><img src=\"https://colab.research.google.com/assets/colab-badge.svg\" alt=\"Open In Colab\"/></a>"
      ]
    },
    {
      "cell_type": "markdown",
      "source": [
        "# **Introduction to Pandas and advanced data science **"
      ],
      "metadata": {
        "id": "afQEFnXamE-E"
      }
    },
    {
      "cell_type": "markdown",
      "source": [
        "[Import Pandas Series](#scrollTo=qJovi707nY1k&line=3&uniqifier=1)"
      ],
      "metadata": {
        "id": "TlpdHYkxsEye"
      }
    },
    {
      "cell_type": "markdown",
      "source": [
        "[Working with *apply* function in *pandas Series* ](#scrollTo=ZrhmN_fAqsi2&line=1&uniqifier=1)"
      ],
      "metadata": {
        "id": "HfNVC407sfXz"
      }
    },
    {
      "cell_type": "markdown",
      "source": [
        "[Working with dictionaies](#scrollTo=NxCNX_t6u1zk&line=4&uniqifier=1)"
      ],
      "metadata": {
        "id": "9CiqxaDjvWtn"
      }
    },
    {
      "cell_type": "markdown",
      "source": [
        "# Pandas Series"
      ],
      "metadata": {
        "id": "MtY7hf_AoQRc"
      }
    },
    {
      "cell_type": "code",
      "source": [
        "import pandas as pd\n",
        "s = pd.Series([1,2,3,4,5])\n",
        "s"
      ],
      "metadata": {
        "colab": {
          "base_uri": "https://localhost:8080/"
        },
        "id": "qJovi707nY1k",
        "outputId": "1f187971-0f68-4fd1-9100-496a92cb96e9"
      },
      "execution_count": 3,
      "outputs": [
        {
          "output_type": "execute_result",
          "data": {
            "text/plain": [
              "0    1\n",
              "1    2\n",
              "2    3\n",
              "3    4\n",
              "4    5\n",
              "dtype: int64"
            ]
          },
          "metadata": {},
          "execution_count": 3
        }
      ]
    },
    {
      "cell_type": "code",
      "source": [
        "print(type(s))\n",
        "print(s.index)\n",
        "print(s.values)"
      ],
      "metadata": {
        "colab": {
          "base_uri": "https://localhost:8080/"
        },
        "id": "0QeG7stxoi_-",
        "outputId": "4f867fb5-2527-4d17-c795-d5382dd37f55"
      },
      "execution_count": 5,
      "outputs": [
        {
          "output_type": "stream",
          "name": "stdout",
          "text": [
            "<class 'pandas.core.series.Series'>\n",
            "RangeIndex(start=0, stop=5, step=1)\n",
            "[1 2 3 4 5]\n"
          ]
        }
      ]
    },
    {
      "cell_type": "code",
      "source": [
        "fruits = ['apples','bananas','cherries','pears']"
      ],
      "metadata": {
        "id": "eCccBmNHp5wz"
      },
      "execution_count": 6,
      "outputs": []
    },
    {
      "cell_type": "code",
      "source": [
        "s1 = pd.Series([20,10,30,40] , index = fruits)\n",
        "s2 = pd.Series([8,8,8,8], index = fruits)\n",
        "print(s1+s2)"
      ],
      "metadata": {
        "colab": {
          "base_uri": "https://localhost:8080/"
        },
        "id": "G7zI05ENp_iP",
        "outputId": "00c41628-af09-45eb-f822-3f114f3d1f01"
      },
      "execution_count": 8,
      "outputs": [
        {
          "output_type": "stream",
          "name": "stdout",
          "text": [
            "apples      28\n",
            "bananas     18\n",
            "cherries    38\n",
            "pears       48\n",
            "dtype: int64\n"
          ]
        }
      ]
    },
    {
      "cell_type": "code",
      "source": [
        "print(s1['apples'])"
      ],
      "metadata": {
        "colab": {
          "base_uri": "https://localhost:8080/"
        },
        "id": "s4Luaiqrqun4",
        "outputId": "0d2f72bb-ad60-4671-85b1-b4f63168b6f6"
      },
      "execution_count": 9,
      "outputs": [
        {
          "output_type": "stream",
          "name": "stdout",
          "text": [
            "20\n"
          ]
        }
      ]
    },
    {
      "cell_type": "markdown",
      "source": [
        "# working with Apply function in Pandas Series"
      ],
      "metadata": {
        "id": "LwZ4X3emr4BM"
      }
    },
    {
      "cell_type": "code",
      "source": [
        "import numpy as np\n",
        "s"
      ],
      "metadata": {
        "colab": {
          "base_uri": "https://localhost:8080/"
        },
        "id": "ZrhmN_fAqsi2",
        "outputId": "3556040a-8029-42f1-ac9f-e5daed48055b"
      },
      "execution_count": 14,
      "outputs": [
        {
          "output_type": "execute_result",
          "data": {
            "text/plain": [
              "0    1\n",
              "1    2\n",
              "2    3\n",
              "3    4\n",
              "4    5\n",
              "dtype: int64"
            ]
          },
          "metadata": {},
          "execution_count": 14
        }
      ]
    },
    {
      "cell_type": "code",
      "source": [
        "s.apply(np.sqrt)"
      ],
      "metadata": {
        "colab": {
          "base_uri": "https://localhost:8080/"
        },
        "id": "HJ7A53xjrsWk",
        "outputId": "f05c4ab6-a10d-405b-8007-544bc6607510"
      },
      "execution_count": 11,
      "outputs": [
        {
          "output_type": "execute_result",
          "data": {
            "text/plain": [
              "0    1.000000\n",
              "1    1.414214\n",
              "2    1.732051\n",
              "3    2.000000\n",
              "4    2.236068\n",
              "dtype: float64"
            ]
          },
          "metadata": {},
          "execution_count": 11
        }
      ]
    },
    {
      "cell_type": "code",
      "source": [
        "s.apply(lambda x:x+25 if(x>2) else x+10)"
      ],
      "metadata": {
        "colab": {
          "base_uri": "https://localhost:8080/"
        },
        "id": "A9QZ3CqZrteZ",
        "outputId": "d8ce7acf-d702-4b6c-bd71-d9851d17969d"
      },
      "execution_count": 19,
      "outputs": [
        {
          "output_type": "execute_result",
          "data": {
            "text/plain": [
              "0    11\n",
              "1    12\n",
              "2    28\n",
              "3    29\n",
              "4    30\n",
              "dtype: int64"
            ]
          },
          "metadata": {},
          "execution_count": 19
        }
      ]
    },
    {
      "cell_type": "markdown",
      "source": [
        "# working with series object using dictionaries"
      ],
      "metadata": {
        "id": "dCATxyBKvD8S"
      }
    },
    {
      "cell_type": "code",
      "source": [
        "cities = {\"London\":    8615246, \n",
        "          \"Berlin\":    3562166, \n",
        "          \"Madrid\":    3165235, \n",
        "          \"Rome\":      2874038, \n",
        "          \"Paris\":     2273305, \n",
        "          \"Vienna\":    1805681, \n",
        "          \"Bucharest\": 1803425, \n",
        "          \"Hamburg\":   1760433,\n",
        "          \"Budapest\":  1754000,\n",
        "          \"Warsaw\":    1740119,\n",
        "          \"Barcelona\": 1602386,\n",
        "          \"Munich\":    1493900,\n",
        "          \"Milan\":     1350680}\n",
        "\n",
        "city_series = pd.Series(cities)\n",
        "print(city_series)"
      ],
      "metadata": {
        "colab": {
          "base_uri": "https://localhost:8080/"
        },
        "id": "NxCNX_t6u1zk",
        "outputId": "6ee89464-ca8f-4f3c-e26c-8e4d5946f623"
      },
      "execution_count": 20,
      "outputs": [
        {
          "output_type": "stream",
          "name": "stdout",
          "text": [
            "London       8615246\n",
            "Berlin       3562166\n",
            "Madrid       3165235\n",
            "Rome         2874038\n",
            "Paris        2273305\n",
            "Vienna       1805681\n",
            "Bucharest    1803425\n",
            "Hamburg      1760433\n",
            "Budapest     1754000\n",
            "Warsaw       1740119\n",
            "Barcelona    1602386\n",
            "Munich       1493900\n",
            "Milan        1350680\n",
            "dtype: int64\n"
          ]
        }
      ]
    },
    {
      "cell_type": "code",
      "source": [
        ""
      ],
      "metadata": {
        "id": "4P3mnmaXvDb7"
      },
      "execution_count": null,
      "outputs": []
    }
  ]
}